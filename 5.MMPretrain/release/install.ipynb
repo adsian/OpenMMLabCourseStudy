{
 "cells": [
  {
   "cell_type": "code",
   "execution_count": 4,
   "metadata": {
    "ExecuteTime": {
     "end_time": "2023-06-07T13:49:09.455036700Z",
     "start_time": "2023-06-07T13:49:07.857000100Z"
    },
    "collapsed": true
   },
   "outputs": [],
   "source": [
    "import mmpretrain"
   ]
  },
  {
   "cell_type": "code",
   "execution_count": 5,
   "metadata": {
    "ExecuteTime": {
     "end_time": "2023-06-07T13:49:09.469906500Z",
     "start_time": "2023-06-07T13:49:09.453339500Z"
    },
    "collapsed": false
   },
   "outputs": [
    {
     "data": {
      "text/plain": [
       "'1.0.0rc8'"
      ]
     },
     "execution_count": 5,
     "metadata": {},
     "output_type": "execute_result"
    }
   ],
   "source": [
    "mmpretrain.__version__"
   ]
  },
  {
   "cell_type": "code",
   "execution_count": 6,
   "metadata": {
    "ExecuteTime": {
     "end_time": "2023-06-07T13:49:09.513675500Z",
     "start_time": "2023-06-07T13:49:09.468907Z"
    },
    "collapsed": false
   },
   "outputs": [],
   "source": [
    "from mmpretrain import get_model, list_models, inference_model"
   ]
  },
  {
   "cell_type": "code",
   "execution_count": 7,
   "metadata": {
    "ExecuteTime": {
     "end_time": "2023-06-07T13:49:10.318709300Z",
     "start_time": "2023-06-07T13:49:09.484906100Z"
    },
    "collapsed": false
   },
   "outputs": [
    {
     "data": {
      "text/plain": [
       "['resnet18_8xb16_cifar10', 'resnet18_8xb32_in1k']"
      ]
     },
     "execution_count": 7,
     "metadata": {},
     "output_type": "execute_result"
    }
   ],
   "source": [
    "list_models(task='Image Classification', pattern='resnet18')"
   ]
  },
  {
   "cell_type": "code",
   "execution_count": 8,
   "metadata": {
    "ExecuteTime": {
     "end_time": "2023-06-07T13:49:10.349709300Z",
     "start_time": "2023-06-07T13:49:10.320709300Z"
    },
    "collapsed": false
   },
   "outputs": [
    {
     "data": {
      "text/plain": [
       "['blip-base_3rdparty_caption', 'blip2-opt2.7b_3rdparty-zeroshot_caption']"
      ]
     },
     "execution_count": 8,
     "metadata": {},
     "output_type": "execute_result"
    }
   ],
   "source": [
    "list_models(task='Image Caption', pattern='blip')"
   ]
  },
  {
   "cell_type": "markdown",
   "metadata": {
    "collapsed": false
   },
   "source": []
  },
  {
   "cell_type": "code",
   "execution_count": 9,
   "metadata": {
    "ExecuteTime": {
     "end_time": "2023-06-07T13:49:11.360986600Z",
     "start_time": "2023-06-07T13:49:10.335710100Z"
    },
    "collapsed": false
   },
   "outputs": [],
   "source": [
    "model = get_model('resnet18_8xb16_cifar10')"
   ]
  },
  {
   "cell_type": "code",
   "execution_count": null,
   "metadata": {
    "collapsed": false
   },
   "outputs": [],
   "source": []
  },
  {
   "cell_type": "code",
   "execution_count": 10,
   "metadata": {
    "ExecuteTime": {
     "end_time": "2023-06-07T13:49:11.376083700Z",
     "start_time": "2023-06-07T13:49:11.361987800Z"
    },
    "collapsed": false
   },
   "outputs": [
    {
     "data": {
      "text/plain": [
       "mmpretrain.models.classifiers.image.ImageClassifier"
      ]
     },
     "execution_count": 10,
     "metadata": {},
     "output_type": "execute_result"
    }
   ],
   "source": [
    "type(model)"
   ]
  },
  {
   "cell_type": "code",
   "execution_count": 11,
   "metadata": {
    "ExecuteTime": {
     "end_time": "2023-06-07T13:49:11.456083800Z",
     "start_time": "2023-06-07T13:49:11.376083700Z"
    },
    "collapsed": false
   },
   "outputs": [],
   "source": [
    "model = get_model('resnet18_8xb32_in1k')"
   ]
  },
  {
   "cell_type": "code",
   "execution_count": 12,
   "metadata": {
    "ExecuteTime": {
     "end_time": "2023-06-07T13:49:11.472083Z",
     "start_time": "2023-06-07T13:49:11.457085700Z"
    },
    "collapsed": false
   },
   "outputs": [
    {
     "data": {
      "text/plain": [
       "mmpretrain.models.classifiers.image.ImageClassifier"
      ]
     },
     "execution_count": 12,
     "metadata": {},
     "output_type": "execute_result"
    }
   ],
   "source": [
    "type(model)"
   ]
  },
  {
   "cell_type": "code",
   "execution_count": 13,
   "metadata": {
    "ExecuteTime": {
     "end_time": "2023-06-07T13:49:11.518708400Z",
     "start_time": "2023-06-07T13:49:11.473086900Z"
    },
    "collapsed": false
   },
   "outputs": [
    {
     "data": {
      "text/plain": [
       "'C:\\\\Users\\\\Roger\\\\Desktop\\\\mmlab\\\\mmpretrain\\\\note'"
      ]
     },
     "execution_count": 13,
     "metadata": {},
     "output_type": "execute_result"
    }
   ],
   "source": [
    "%pwd"
   ]
  },
  {
   "cell_type": "code",
   "execution_count": 14,
   "metadata": {
    "ExecuteTime": {
     "end_time": "2023-06-07T13:49:11.709942400Z",
     "start_time": "2023-06-07T13:49:11.488084600Z"
    },
    "collapsed": false
   },
   "outputs": [
    {
     "data": {
      "text/html": [
       "<pre style=\"white-space:pre;overflow-x:auto;line-height:normal;font-family:Menlo,'DejaVu Sans Mono',consolas,'Courier New',monospace\"></pre>\n"
      ],
      "text/plain": []
     },
     "metadata": {},
     "output_type": "display_data"
    },
    {
     "name": "stdout",
     "output_type": "stream",
     "text": [
      "06/07 21:49:11 - mmengine - \u001b[5m\u001b[4m\u001b[33mWARNING\u001b[0m - `Visualizer` backend is not initialized because save_dir is None.\n"
     ]
    },
    {
     "data": {
      "text/plain": [
       "{'pred_scores': array([0.00101879, 0.00098678, 0.00104658, 0.00103603, 0.00102693,\n",
       "        0.00097302, 0.00099103, 0.00104597, 0.00094824, 0.00100188,\n",
       "        0.00107369, 0.00096844, 0.00096927, 0.00101899, 0.00097568,\n",
       "        0.00105166, 0.00100411, 0.00090131, 0.00099088, 0.00101189,\n",
       "        0.00112449, 0.00104031, 0.00103253, 0.00100965, 0.00098432,\n",
       "        0.00097066, 0.0009951 , 0.00095577, 0.00104552, 0.00106416,\n",
       "        0.00101071, 0.0010061 , 0.00103134, 0.00096314, 0.00096329,\n",
       "        0.00094663, 0.00106098, 0.00096377, 0.00097635, 0.00101594,\n",
       "        0.00098256, 0.00110619, 0.0010009 , 0.00104881, 0.00095695,\n",
       "        0.00102616, 0.00103013, 0.00104933, 0.00100961, 0.00100574,\n",
       "        0.00103032, 0.00097859, 0.00099535, 0.00103922, 0.00100131,\n",
       "        0.00095112, 0.00103831, 0.00099152, 0.00099404, 0.0010977 ,\n",
       "        0.00094959, 0.00100369, 0.00104676, 0.0009823 , 0.00099031,\n",
       "        0.00102671, 0.00101209, 0.00106057, 0.00100781, 0.00103144,\n",
       "        0.00104811, 0.00095688, 0.00104653, 0.00096238, 0.00102494,\n",
       "        0.00095365, 0.00099881, 0.00102547, 0.00095415, 0.00094247,\n",
       "        0.00096724, 0.00103006, 0.00100362, 0.00099668, 0.00100804,\n",
       "        0.00102434, 0.00095895, 0.00095356, 0.00097241, 0.00106192,\n",
       "        0.00100896, 0.00101528, 0.00096522, 0.00094139, 0.00095465,\n",
       "        0.00096317, 0.00091065, 0.00106994, 0.00097402, 0.00100891,\n",
       "        0.0010198 , 0.00105471, 0.00099186, 0.00096789, 0.00101662,\n",
       "        0.00104904, 0.00097085, 0.00099612, 0.00099742, 0.00094735,\n",
       "        0.00098362, 0.00100583, 0.00099559, 0.00099914, 0.00104414,\n",
       "        0.00094498, 0.00098109, 0.00099648, 0.00105162, 0.00095241,\n",
       "        0.00101717, 0.00091914, 0.00102585, 0.00103351, 0.00094583,\n",
       "        0.00102801, 0.00108719, 0.0010666 , 0.00096866, 0.00103533,\n",
       "        0.00098252, 0.00089403, 0.00102863, 0.00101646, 0.00105597,\n",
       "        0.00100596, 0.00098819, 0.00098816, 0.00102863, 0.00098586,\n",
       "        0.00100824, 0.00104878, 0.0010634 , 0.00102132, 0.00099467,\n",
       "        0.00101207, 0.00104205, 0.0009545 , 0.0010445 , 0.00093324,\n",
       "        0.00105922, 0.00101763, 0.00102565, 0.00108185, 0.0009719 ,\n",
       "        0.00094434, 0.00097753, 0.00110351, 0.00101695, 0.00094875,\n",
       "        0.00102815, 0.00096322, 0.00104181, 0.00099306, 0.00093422,\n",
       "        0.00098657, 0.0010485 , 0.00094737, 0.00101447, 0.0010899 ,\n",
       "        0.00092199, 0.00099589, 0.00104997, 0.00108344, 0.00105771,\n",
       "        0.00097917, 0.00092215, 0.00111359, 0.00099228, 0.00101681,\n",
       "        0.00104141, 0.00098779, 0.00096437, 0.00099734, 0.00104505,\n",
       "        0.00094656, 0.00096826, 0.00106565, 0.00101012, 0.00105644,\n",
       "        0.00101263, 0.00112863, 0.00094106, 0.00105559, 0.0009559 ,\n",
       "        0.00102963, 0.00099693, 0.00104542, 0.00103701, 0.00105144,\n",
       "        0.00099061, 0.00105613, 0.00101721, 0.00103051, 0.00100441,\n",
       "        0.00098207, 0.00101584, 0.0009918 , 0.00102245, 0.00097422,\n",
       "        0.00102239, 0.00099967, 0.00099161, 0.0010288 , 0.0009588 ,\n",
       "        0.0010069 , 0.00097027, 0.0009063 , 0.00102815, 0.00104087,\n",
       "        0.00104885, 0.00101853, 0.00101032, 0.00098285, 0.00096791,\n",
       "        0.00097146, 0.00102209, 0.00097027, 0.00098449, 0.00096767,\n",
       "        0.00101349, 0.0010071 , 0.00099123, 0.00096116, 0.00100979,\n",
       "        0.0010436 , 0.00091032, 0.00098197, 0.00094555, 0.0010032 ,\n",
       "        0.00104241, 0.00104219, 0.00098772, 0.0010357 , 0.00098287,\n",
       "        0.00102765, 0.00097293, 0.00095724, 0.0009576 , 0.00101382,\n",
       "        0.00103974, 0.00098935, 0.00097196, 0.00101289, 0.00093047,\n",
       "        0.00101029, 0.00094816, 0.00106846, 0.00092197, 0.00096441,\n",
       "        0.00093681, 0.00095852, 0.00098784, 0.00100594, 0.00106936,\n",
       "        0.00108704, 0.00101062, 0.00105601, 0.00104024, 0.00099512,\n",
       "        0.00104671, 0.00096751, 0.00105713, 0.00098733, 0.00100168,\n",
       "        0.00101013, 0.00104048, 0.00102605, 0.0010626 , 0.00098637,\n",
       "        0.00097358, 0.00105838, 0.00104886, 0.00095999, 0.00094504,\n",
       "        0.00101128, 0.00092924, 0.00103104, 0.00106796, 0.0009705 ,\n",
       "        0.00091968, 0.00112447, 0.00100256, 0.00092913, 0.00106549,\n",
       "        0.000972  , 0.00093659, 0.00108732, 0.00104214, 0.00095269,\n",
       "        0.00102921, 0.00100005, 0.00108236, 0.00102821, 0.00092941,\n",
       "        0.00100581, 0.00102532, 0.00102384, 0.00099619, 0.0010113 ,\n",
       "        0.00106005, 0.00100185, 0.00100178, 0.00101874, 0.00098335,\n",
       "        0.00104077, 0.00099137, 0.00104855, 0.00099295, 0.00096596,\n",
       "        0.0010844 , 0.0010226 , 0.00106342, 0.00099157, 0.00096602,\n",
       "        0.00096501, 0.0010161 , 0.00095134, 0.00093639, 0.00100012,\n",
       "        0.00098458, 0.00099439, 0.00095458, 0.00103433, 0.00101941,\n",
       "        0.00099299, 0.00099055, 0.00097128, 0.00100764, 0.00098566,\n",
       "        0.00096795, 0.00102384, 0.00099911, 0.00093972, 0.00095751,\n",
       "        0.00091184, 0.00100717, 0.00093688, 0.00099124, 0.00091412,\n",
       "        0.00097892, 0.00104674, 0.00099294, 0.00106033, 0.00088292,\n",
       "        0.00101399, 0.00101782, 0.00098093, 0.0010007 , 0.00100928,\n",
       "        0.00096843, 0.0009634 , 0.00099956, 0.00102899, 0.00100206,\n",
       "        0.00100516, 0.00100397, 0.00101085, 0.0010609 , 0.00102599,\n",
       "        0.00096531, 0.00097815, 0.00097986, 0.00095307, 0.00103761,\n",
       "        0.0010221 , 0.00098184, 0.00092111, 0.00110734, 0.00107201,\n",
       "        0.00102971, 0.00101771, 0.00105304, 0.00111383, 0.00103673,\n",
       "        0.0009836 , 0.00100856, 0.0010253 , 0.00098566, 0.00102192,\n",
       "        0.00097416, 0.00097036, 0.00097859, 0.00107421, 0.00102549,\n",
       "        0.00101131, 0.00097376, 0.00097711, 0.00096573, 0.0009392 ,\n",
       "        0.00098848, 0.00098975, 0.00099309, 0.00100031, 0.00105338,\n",
       "        0.00100344, 0.00105744, 0.00103402, 0.00093966, 0.00098194,\n",
       "        0.00110779, 0.00100314, 0.00103326, 0.00103315, 0.00098685,\n",
       "        0.00097395, 0.00111096, 0.00096291, 0.00103096, 0.00094881,\n",
       "        0.00099047, 0.00096589, 0.00098598, 0.00106993, 0.00098379,\n",
       "        0.00096136, 0.00103538, 0.00104134, 0.0009487 , 0.00100401,\n",
       "        0.00094556, 0.00098838, 0.0009646 , 0.00096673, 0.00098723,\n",
       "        0.00099586, 0.00101584, 0.00095642, 0.00096668, 0.00096672,\n",
       "        0.00096107, 0.00096364, 0.0010052 , 0.00104023, 0.00104579,\n",
       "        0.00096172, 0.00101132, 0.00099863, 0.00093453, 0.00100611,\n",
       "        0.00099512, 0.00105006, 0.00091608, 0.00097167, 0.00093305,\n",
       "        0.00098901, 0.00106738, 0.00097724, 0.00102485, 0.00103818,\n",
       "        0.00100196, 0.0010213 , 0.00096607, 0.0009416 , 0.00095928,\n",
       "        0.00100513, 0.00093251, 0.0009683 , 0.0009977 , 0.00104029,\n",
       "        0.00102291, 0.00090492, 0.0009906 , 0.00099322, 0.00103293,\n",
       "        0.00098992, 0.00100089, 0.00101042, 0.00101611, 0.00092236,\n",
       "        0.0010091 , 0.00104301, 0.00108139, 0.00089962, 0.00104492,\n",
       "        0.00095928, 0.00106289, 0.00095797, 0.00101012, 0.00097766,\n",
       "        0.00096544, 0.00101728, 0.00097378, 0.00099856, 0.00100986,\n",
       "        0.00097506, 0.00102336, 0.0010082 , 0.00112108, 0.00108577,\n",
       "        0.0009985 , 0.00099905, 0.00108487, 0.00098356, 0.00104047,\n",
       "        0.00100291, 0.00098256, 0.00103945, 0.00103327, 0.00097964,\n",
       "        0.00094282, 0.00102886, 0.00092456, 0.00101796, 0.00101528,\n",
       "        0.00101176, 0.0010109 , 0.00091949, 0.00097623, 0.00097253,\n",
       "        0.00096772, 0.00096396, 0.00098287, 0.00092397, 0.00093519,\n",
       "        0.00093467, 0.00102295, 0.00094543, 0.00107372, 0.00101975,\n",
       "        0.00102416, 0.00095798, 0.00103764, 0.00095576, 0.00105487,\n",
       "        0.00101019, 0.00099379, 0.0010415 , 0.0010232 , 0.00102527,\n",
       "        0.00093416, 0.00099989, 0.00102164, 0.00096049, 0.00091944,\n",
       "        0.00098058, 0.00108654, 0.0010534 , 0.00106379, 0.00095391,\n",
       "        0.00096832, 0.00098467, 0.00097722, 0.00103234, 0.00103194,\n",
       "        0.00104087, 0.00100808, 0.0010156 , 0.00097965, 0.00089551,\n",
       "        0.00098794, 0.00096507, 0.00095316, 0.00094022, 0.00097702,\n",
       "        0.00093123, 0.00099093, 0.00093495, 0.00097602, 0.00100265,\n",
       "        0.00103101, 0.00101723, 0.00100496, 0.00098007, 0.00105025,\n",
       "        0.00095288, 0.0009877 , 0.0009947 , 0.00097961, 0.00098119,\n",
       "        0.00095894, 0.00106434, 0.00101819, 0.00095411, 0.0010928 ,\n",
       "        0.00102374, 0.00097613, 0.00094823, 0.0009913 , 0.00104579,\n",
       "        0.00100379, 0.00094023, 0.00091012, 0.00101158, 0.00103142,\n",
       "        0.00094703, 0.00094199, 0.0009236 , 0.00103425, 0.00105611,\n",
       "        0.00095909, 0.0011168 , 0.00098818, 0.00107285, 0.0010187 ,\n",
       "        0.00097778, 0.00094355, 0.00097562, 0.00099596, 0.00095845,\n",
       "        0.00106248, 0.00102802, 0.00103173, 0.00098796, 0.00098722,\n",
       "        0.00101003, 0.00102649, 0.00091767, 0.00102388, 0.00094985,\n",
       "        0.00096343, 0.00105127, 0.00104063, 0.001026  , 0.00098858,\n",
       "        0.00105722, 0.00093318, 0.00112435, 0.00101448, 0.00096898,\n",
       "        0.00101368, 0.00101135, 0.00101782, 0.00108058, 0.00096282,\n",
       "        0.00099046, 0.00097562, 0.00100916, 0.00102528, 0.00105896,\n",
       "        0.00095897, 0.00095432, 0.0009583 , 0.00096708, 0.00104834,\n",
       "        0.00098757, 0.00098171, 0.00096457, 0.00105862, 0.000967  ,\n",
       "        0.00099628, 0.00095305, 0.00098948, 0.00104696, 0.00098483,\n",
       "        0.00112285, 0.00094654, 0.00097234, 0.00092753, 0.00100095,\n",
       "        0.00094996, 0.00093496, 0.00098507, 0.00097238, 0.00103888,\n",
       "        0.00096945, 0.00102468, 0.00099484, 0.00100044, 0.00104561,\n",
       "        0.00108185, 0.00104346, 0.00098585, 0.00095992, 0.00103055,\n",
       "        0.00098973, 0.00102202, 0.0009596 , 0.00104012, 0.00094374,\n",
       "        0.00110925, 0.00103004, 0.00095621, 0.00101239, 0.00104513,\n",
       "        0.0009857 , 0.00106228, 0.0010026 , 0.00099587, 0.00093645,\n",
       "        0.00103254, 0.00105374, 0.00111715, 0.00099653, 0.0010152 ,\n",
       "        0.00104679, 0.00107205, 0.00102344, 0.00099683, 0.00107685,\n",
       "        0.0009922 , 0.0010038 , 0.00104765, 0.00103331, 0.00096978,\n",
       "        0.00100246, 0.00105278, 0.00096183, 0.00103541, 0.00103596,\n",
       "        0.00105015, 0.00093916, 0.00104972, 0.00098611, 0.00097107,\n",
       "        0.00098833, 0.00100066, 0.00097255, 0.00097517, 0.00102707,\n",
       "        0.00103539, 0.00094528, 0.00099593, 0.0009796 , 0.00096228,\n",
       "        0.0009949 , 0.00098684, 0.0010096 , 0.00103606, 0.00098873,\n",
       "        0.00095522, 0.00100779, 0.00096926, 0.00096061, 0.00101745,\n",
       "        0.00092543, 0.00098436, 0.00100497, 0.00102784, 0.0009348 ,\n",
       "        0.00097875, 0.00101109, 0.00095461, 0.00098563, 0.00098619,\n",
       "        0.00102609, 0.00106242, 0.00100029, 0.00098567, 0.0010627 ,\n",
       "        0.000958  , 0.00101839, 0.00101542, 0.00107081, 0.00100935,\n",
       "        0.00100873, 0.00105554, 0.00105177, 0.00100529, 0.00094462,\n",
       "        0.00090881, 0.00091976, 0.00099449, 0.00093438, 0.00093693,\n",
       "        0.00105186, 0.00094405, 0.00098452, 0.00101909, 0.00098074,\n",
       "        0.00094597, 0.00101494, 0.00101473, 0.0010782 , 0.00093629,\n",
       "        0.00095815, 0.00099887, 0.00100821, 0.00093333, 0.00102715,\n",
       "        0.00098235, 0.00108084, 0.00092962, 0.0009089 , 0.00093857,\n",
       "        0.00104144, 0.00098795, 0.00103267, 0.00097119, 0.00097075,\n",
       "        0.00098586, 0.00090357, 0.00097938, 0.00102328, 0.00094887,\n",
       "        0.00097988, 0.00094468, 0.00107698, 0.00092106, 0.00099795,\n",
       "        0.00100838, 0.00098443, 0.00111742, 0.0010005 , 0.00093907,\n",
       "        0.00098405, 0.00097405, 0.00101372, 0.00105375, 0.0010279 ,\n",
       "        0.00098513, 0.00094733, 0.00099236, 0.00091733, 0.00104742,\n",
       "        0.00097338, 0.00101322, 0.00097443, 0.00090561, 0.00101481,\n",
       "        0.0010636 , 0.00098757, 0.00096017, 0.00099516, 0.00098283,\n",
       "        0.00092695, 0.00102294, 0.00101741, 0.00098961, 0.0009694 ,\n",
       "        0.0009284 , 0.0010235 , 0.00091761, 0.00095369, 0.00103502,\n",
       "        0.00097718, 0.00095071, 0.00097283, 0.00102875, 0.00094419,\n",
       "        0.00108099, 0.0009994 , 0.0010121 , 0.00098958, 0.00097552,\n",
       "        0.00105705, 0.00102488, 0.00094912, 0.00097861, 0.00097398,\n",
       "        0.00093374, 0.00099361, 0.00097226, 0.00102224, 0.00101736,\n",
       "        0.00095341, 0.00099768, 0.00094524, 0.0010234 , 0.00096819,\n",
       "        0.00109252, 0.0010257 , 0.00094172, 0.00104731, 0.00097386,\n",
       "        0.00100811, 0.0009271 , 0.00093134, 0.00094279, 0.00096167,\n",
       "        0.00094764, 0.00103017, 0.00106632, 0.00111003, 0.0009562 ,\n",
       "        0.00097684, 0.00100198, 0.00101676, 0.0009569 , 0.0010119 ,\n",
       "        0.00104723, 0.00101836, 0.00104722, 0.00098727, 0.00105633,\n",
       "        0.00099841, 0.00104187, 0.00094046, 0.00102034, 0.00102714,\n",
       "        0.00093888, 0.00100568, 0.00108419, 0.00100252, 0.00095726,\n",
       "        0.00101042, 0.00095019, 0.00104103, 0.00099323, 0.00096049,\n",
       "        0.00097799, 0.00108003, 0.00097472, 0.00097616, 0.00098372,\n",
       "        0.00103418, 0.00097794, 0.00099202, 0.00100332, 0.00102715,\n",
       "        0.00095958, 0.00100421, 0.00099004, 0.00101914, 0.00101227,\n",
       "        0.0009918 , 0.00107109, 0.00103915, 0.00099414, 0.00091527,\n",
       "        0.00097881, 0.00098752, 0.00103056, 0.00101753, 0.00098737,\n",
       "        0.00099537, 0.00098886, 0.00100458, 0.00100143, 0.001092  ,\n",
       "        0.00099414, 0.00102764, 0.00097691, 0.0011188 , 0.0009652 ,\n",
       "        0.00102319, 0.00093104, 0.00093081, 0.00108286, 0.00106713,\n",
       "        0.00093673, 0.00099767, 0.00093356, 0.00104227, 0.00093901,\n",
       "        0.00098567, 0.00101553, 0.00100914, 0.00097999, 0.0010402 ,\n",
       "        0.00101811, 0.00100608, 0.00096448, 0.00098558, 0.00097894,\n",
       "        0.00097154, 0.00104791, 0.00106174, 0.00099583, 0.00096512,\n",
       "        0.00104563, 0.00094176, 0.00099896, 0.00100975, 0.00107187,\n",
       "        0.00100055, 0.00091192, 0.0010531 , 0.00104342, 0.00094771,\n",
       "        0.000999  , 0.00097667, 0.001022  , 0.00101277, 0.00097454,\n",
       "        0.00105866, 0.00100692, 0.00102308, 0.0010404 , 0.00097069,\n",
       "        0.00095964, 0.00100036, 0.00098473, 0.00097973, 0.00100683,\n",
       "        0.00099537, 0.00090281, 0.00105472, 0.00109691, 0.00095204,\n",
       "        0.00097852, 0.00096979, 0.00103231, 0.00099339, 0.00109495,\n",
       "        0.0010026 , 0.00101009, 0.00101863, 0.00099387, 0.00099819],\n",
       "       dtype=float32),\n",
       " 'pred_label': 191,\n",
       " 'pred_score': 0.001128628384321928,\n",
       " 'pred_class': 'Airedale, Airedale terrier'}"
      ]
     },
     "execution_count": 14,
     "metadata": {},
     "output_type": "execute_result"
    }
   ],
   "source": [
    "inference_model(model, '../demo/bird.JPEG', show=True)"
   ]
  },
  {
   "cell_type": "code",
   "execution_count": 15,
   "metadata": {
    "ExecuteTime": {
     "end_time": "2023-06-07T13:49:11.755590700Z",
     "start_time": "2023-06-07T13:49:11.710946400Z"
    },
    "collapsed": false
   },
   "outputs": [
    {
     "data": {
      "text/plain": [
       "['blip-base_3rdparty_caption', 'blip2-opt2.7b_3rdparty-zeroshot_caption']"
      ]
     },
     "execution_count": 15,
     "metadata": {},
     "output_type": "execute_result"
    }
   ],
   "source": [
    "list_models(task='Image Caption', pattern='blip')"
   ]
  },
  {
   "cell_type": "code",
   "execution_count": 16,
   "metadata": {
    "ExecuteTime": {
     "end_time": "2023-06-07T13:49:15.978058300Z",
     "start_time": "2023-06-07T13:49:11.725594400Z"
    },
    "collapsed": false
   },
   "outputs": [
    {
     "name": "stderr",
     "output_type": "stream",
     "text": [
      "The tokenizer class you load from this checkpoint is not the same type as the class this function is called from. It may result in unexpected tokenization. \n",
      "The tokenizer class you load from this checkpoint is 'BertTokenizer'. \n",
      "The class this function is called from is 'BlipTokenizer'.\n"
     ]
    },
    {
     "name": "stdout",
     "output_type": "stream",
     "text": [
      "Loads checkpoint by http backend from path: https://download.openmmlab.com/mmclassification/v1/blip/blip-base_3rdparty_coco-caption_20230419-a5b71af3.pth\n"
     ]
    },
    {
     "data": {
      "application/vnd.jupyter.widget-view+json": {
       "model_id": "4d80a571e8ed44ee9438547815a4f131",
       "version_major": 2,
       "version_minor": 0
      },
      "text/plain": [
       "Output()"
      ]
     },
     "metadata": {},
     "output_type": "display_data"
    },
    {
     "data": {
      "text/html": [
       "<pre style=\"white-space:pre;overflow-x:auto;line-height:normal;font-family:Menlo,'DejaVu Sans Mono',consolas,'Courier New',monospace\"></pre>\n"
      ],
      "text/plain": []
     },
     "metadata": {},
     "output_type": "display_data"
    },
    {
     "data": {
      "text/plain": [
       "{'pred_caption': 'a puppy and a cat sitting on a blanket'}"
      ]
     },
     "execution_count": 16,
     "metadata": {},
     "output_type": "execute_result"
    }
   ],
   "source": [
    "inference_model('blip-base_3rdparty_caption', '../demo/cat-dog.png', show=True)"
   ]
  },
  {
   "cell_type": "code",
   "execution_count": 17,
   "metadata": {
    "ExecuteTime": {
     "end_time": "2023-06-07T13:57:21.092780Z",
     "start_time": "2023-06-07T13:57:21.075921700Z"
    },
    "collapsed": false
   },
   "outputs": [
    {
     "data": {
      "text/plain": [
       "'C:\\\\Users\\\\Roger\\\\Desktop\\\\mmlab\\\\mmpretrain\\\\note'"
      ]
     },
     "execution_count": 17,
     "metadata": {},
     "output_type": "execute_result"
    }
   ],
   "source": [
    "%pwd"
   ]
  },
  {
   "cell_type": "code",
   "execution_count": 20,
   "metadata": {
    "ExecuteTime": {
     "end_time": "2023-06-07T14:11:40.916414300Z",
     "start_time": "2023-06-07T14:11:40.903153300Z"
    },
    "collapsed": false
   },
   "outputs": [],
   "source": [
    "from mmengine import Config"
   ]
  },
  {
   "cell_type": "code",
   "execution_count": 21,
   "metadata": {
    "ExecuteTime": {
     "end_time": "2023-06-07T14:11:42.311090800Z",
     "start_time": "2023-06-07T14:11:42.270091Z"
    },
    "collapsed": false
   },
   "outputs": [],
   "source": [
    "cfg = Config.fromfile(\"../configs/resnet/resnet18_8xb32_in1k.py\")"
   ]
  },
  {
   "cell_type": "code",
   "execution_count": 22,
   "metadata": {
    "ExecuteTime": {
     "end_time": "2023-06-07T14:11:51.424587700Z",
     "start_time": "2023-06-07T14:11:51.419271100Z"
    },
    "collapsed": false
   },
   "outputs": [
    {
     "data": {
      "text/plain": [
       "{'type': 'ImageClassifier',\n",
       " 'backbone': {'type': 'ResNet',\n",
       "  'depth': 18,\n",
       "  'num_stages': 4,\n",
       "  'out_indices': (3,),\n",
       "  'style': 'pytorch'},\n",
       " 'neck': {'type': 'GlobalAveragePooling'},\n",
       " 'head': {'type': 'LinearClsHead',\n",
       "  'num_classes': 1000,\n",
       "  'in_channels': 512,\n",
       "  'loss': {'type': 'CrossEntropyLoss', 'loss_weight': 1.0},\n",
       "  'topk': (1, 5)}}"
      ]
     },
     "execution_count": 22,
     "metadata": {},
     "output_type": "execute_result"
    }
   ],
   "source": [
    "cfg.model"
   ]
  },
  {
   "cell_type": "code",
   "execution_count": 23,
   "metadata": {
    "ExecuteTime": {
     "end_time": "2023-06-07T14:12:19.300293600Z",
     "start_time": "2023-06-07T14:12:19.297293600Z"
    },
    "collapsed": false
   },
   "outputs": [
    {
     "data": {
      "text/plain": [
       "{'type': 'LinearClsHead',\n",
       " 'num_classes': 1000,\n",
       " 'in_channels': 512,\n",
       " 'loss': {'type': 'CrossEntropyLoss', 'loss_weight': 1.0},\n",
       " 'topk': (1, 5)}"
      ]
     },
     "execution_count": 23,
     "metadata": {},
     "output_type": "execute_result"
    }
   ],
   "source": [
    "cfg.model.head"
   ]
  },
  {
   "cell_type": "code",
   "execution_count": 24,
   "metadata": {
    "ExecuteTime": {
     "end_time": "2023-06-07T14:23:28.391475400Z",
     "start_time": "2023-06-07T14:23:28.384474800Z"
    },
    "collapsed": false
   },
   "outputs": [
    {
     "data": {
      "text/plain": [
       "Config (path: ../configs/resnet/resnet18_8xb32_in1k.py): {'model': {'type': 'ImageClassifier', 'backbone': {'type': 'ResNet', 'depth': 18, 'num_stages': 4, 'out_indices': (3,), 'style': 'pytorch'}, 'neck': {'type': 'GlobalAveragePooling'}, 'head': {'type': 'LinearClsHead', 'num_classes': 1000, 'in_channels': 512, 'loss': {'type': 'CrossEntropyLoss', 'loss_weight': 1.0}, 'topk': (1, 5)}}, 'dataset_type': 'ImageNet', 'data_preprocessor': {'num_classes': 1000, 'mean': [123.675, 116.28, 103.53], 'std': [58.395, 57.12, 57.375], 'to_rgb': True}, 'train_pipeline': [{'type': 'LoadImageFromFile'}, {'type': 'RandomResizedCrop', 'scale': 224}, {'type': 'RandomFlip', 'prob': 0.5, 'direction': 'horizontal'}, {'type': 'PackInputs'}], 'test_pipeline': [{'type': 'LoadImageFromFile'}, {'type': 'ResizeEdge', 'scale': 256, 'edge': 'short'}, {'type': 'CenterCrop', 'crop_size': 224}, {'type': 'PackInputs'}], 'train_dataloader': {'batch_size': 32, 'num_workers': 5, 'dataset': {'type': 'ImageNet', 'data_root': 'data/imagenet', 'ann_file': 'meta/train.txt', 'data_prefix': 'train', 'pipeline': [{'type': 'LoadImageFromFile'}, {'type': 'RandomResizedCrop', 'scale': 224}, {'type': 'RandomFlip', 'prob': 0.5, 'direction': 'horizontal'}, {'type': 'PackInputs'}]}, 'sampler': {'type': 'DefaultSampler', 'shuffle': True}}, 'val_dataloader': {'batch_size': 32, 'num_workers': 5, 'dataset': {'type': 'ImageNet', 'data_root': 'data/imagenet', 'ann_file': 'meta/val.txt', 'data_prefix': 'val', 'pipeline': [{'type': 'LoadImageFromFile'}, {'type': 'ResizeEdge', 'scale': 256, 'edge': 'short'}, {'type': 'CenterCrop', 'crop_size': 224}, {'type': 'PackInputs'}]}, 'sampler': {'type': 'DefaultSampler', 'shuffle': False}}, 'val_evaluator': {'type': 'Accuracy', 'topk': (1, 5)}, 'test_dataloader': {'batch_size': 32, 'num_workers': 5, 'dataset': {'type': 'ImageNet', 'data_root': 'data/imagenet', 'ann_file': 'meta/val.txt', 'data_prefix': 'val', 'pipeline': [{'type': 'LoadImageFromFile'}, {'type': 'ResizeEdge', 'scale': 256, 'edge': 'short'}, {'type': 'CenterCrop', 'crop_size': 224}, {'type': 'PackInputs'}]}, 'sampler': {'type': 'DefaultSampler', 'shuffle': False}}, 'test_evaluator': {'type': 'Accuracy', 'topk': (1, 5)}, 'optim_wrapper': {'optimizer': {'type': 'SGD', 'lr': 0.1, 'momentum': 0.9, 'weight_decay': 0.0001}}, 'param_scheduler': {'type': 'MultiStepLR', 'by_epoch': True, 'milestones': [30, 60, 90], 'gamma': 0.1}, 'train_cfg': {'by_epoch': True, 'max_epochs': 100, 'val_interval': 1}, 'val_cfg': {}, 'test_cfg': {}, 'auto_scale_lr': {'base_batch_size': 256}, 'default_scope': 'mmpretrain', 'default_hooks': {'timer': {'type': 'IterTimerHook'}, 'logger': {'type': 'LoggerHook', 'interval': 100}, 'param_scheduler': {'type': 'ParamSchedulerHook'}, 'checkpoint': {'type': 'CheckpointHook', 'interval': 1}, 'sampler_seed': {'type': 'DistSamplerSeedHook'}, 'visualization': {'type': 'VisualizationHook', 'enable': False}}, 'env_cfg': {'cudnn_benchmark': False, 'mp_cfg': {'mp_start_method': 'fork', 'opencv_num_threads': 0}, 'dist_cfg': {'backend': 'nccl'}}, 'vis_backends': [{'type': 'LocalVisBackend'}], 'visualizer': {'type': 'UniversalVisualizer', 'vis_backends': [{'type': 'LocalVisBackend'}]}, 'log_level': 'INFO', 'load_from': None, 'resume': False, 'randomness': {'seed': None, 'deterministic': False}}"
      ]
     },
     "execution_count": 24,
     "metadata": {},
     "output_type": "execute_result"
    }
   ],
   "source": [
    "cfg"
   ]
  },
  {
   "cell_type": "code",
   "execution_count": 25,
   "metadata": {
    "ExecuteTime": {
     "end_time": "2023-06-07T14:23:45.153250100Z",
     "start_time": "2023-06-07T14:23:45.146248700Z"
    },
    "collapsed": false
   },
   "outputs": [
    {
     "data": {
      "text/plain": [
       "{'batch_size': 32,\n",
       " 'num_workers': 5,\n",
       " 'dataset': {'type': 'ImageNet',\n",
       "  'data_root': 'data/imagenet',\n",
       "  'ann_file': 'meta/train.txt',\n",
       "  'data_prefix': 'train',\n",
       "  'pipeline': [{'type': 'LoadImageFromFile'},\n",
       "   {'type': 'RandomResizedCrop', 'scale': 224},\n",
       "   {'type': 'RandomFlip', 'prob': 0.5, 'direction': 'horizontal'},\n",
       "   {'type': 'PackInputs'}]},\n",
       " 'sampler': {'type': 'DefaultSampler', 'shuffle': True}}"
      ]
     },
     "execution_count": 25,
     "metadata": {},
     "output_type": "execute_result"
    }
   ],
   "source": [
    "cfg.train_dataloader"
   ]
  },
  {
   "cell_type": "code",
   "execution_count": 26,
   "metadata": {
    "ExecuteTime": {
     "end_time": "2023-06-07T14:24:05.623438200Z",
     "start_time": "2023-06-07T14:24:05.617391400Z"
    },
    "collapsed": false
   },
   "outputs": [
    {
     "data": {
      "text/plain": [
       "'ImageNet'"
      ]
     },
     "execution_count": 26,
     "metadata": {},
     "output_type": "execute_result"
    }
   ],
   "source": [
    "cfg.dataset_type"
   ]
  },
  {
   "cell_type": "code",
   "execution_count": 31,
   "metadata": {
    "ExecuteTime": {
     "end_time": "2023-06-07T15:59:02.756681300Z",
     "start_time": "2023-06-07T15:59:02.737895900Z"
    },
    "collapsed": false
   },
   "outputs": [
    {
     "data": {
      "text/plain": [
       "'C:\\\\Users\\\\Roger\\\\Desktop\\\\mmlab\\\\mmpretrain\\\\note'"
      ]
     },
     "execution_count": 31,
     "metadata": {},
     "output_type": "execute_result"
    }
   ],
   "source": [
    "%pwd"
   ]
  },
  {
   "cell_type": "code",
   "execution_count": 34,
   "metadata": {
    "ExecuteTime": {
     "end_time": "2023-06-07T16:04:16.278666900Z",
     "start_time": "2023-06-07T16:02:29.088399800Z"
    },
    "collapsed": false
   },
   "outputs": [
    {
     "name": "stdout",
     "output_type": "stream",
     "text": [
      "Training command is C:\\Users\\Roger\\anaconda3\\envs\\mmlab\\python.exe c:\\users\\roger\\desktop\\mmlab\\mmpretrain\\mmpretrain\\.mim\\tools\\train.py ./data/resnet18_finetune.py --launcher none --work-dir=./exp. \n",
      "06/08 00:02:34 - mmengine - \u001b[4m\u001b[97mINFO\u001b[0m - \n",
      "------------------------------------------------------------\n",
      "System environment:\n",
      "    sys.platform: win32\n",
      "    Python: 3.8.16 (default, Mar  2 2023, 03:18:16) [MSC v.1916 64 bit (AMD64)]\n",
      "    CUDA available: True\n",
      "    numpy_random_seed: 944732157\n",
      "    GPU 0: NVIDIA GeForce RTX 4090\n",
      "    CUDA_HOME: C:\\Program Files\\NVIDIA GPU Computing Toolkit\\CUDA\\v12.1\n",
      "    NVCC: Cuda compilation tools, release 12.1, V12.1.105\n",
      "    MSVC: 用于 x64 的 Microsoft (R) C/C++ 优化编译器 19.36.32532 版\n",
      "    GCC: n/a\n",
      "    PyTorch: 2.0.1\n",
      "    PyTorch compiling details: PyTorch built with:\n",
      "  - C++ Version: 199711\n",
      "  - MSVC 193431937\n",
      "  - Intel(R) Math Kernel Library Version 2020.0.2 Product Build 20200624 for Intel(R) 64 architecture applications\n",
      "  - Intel(R) MKL-DNN v2.7.3 (Git Hash 6dbeffbae1f23cbbeae17adb7b5b13f1f37c080e)\n",
      "  - OpenMP 2019\n",
      "  - LAPACK is enabled (usually provided by MKL)\n",
      "  - CPU capability usage: AVX2\n",
      "  - CUDA Runtime 11.8\n",
      "  - NVCC architecture flags: -gencode;arch=compute_37,code=sm_37;-gencode;arch=compute_50,code=sm_50;-gencode;arch=compute_60,code=sm_60;-gencode;arch=compute_61,code=sm_61;-gencode;arch=compute_70,code=sm_70;-gencode;arch=compute_75,code=sm_75;-gencode;arch=compute_80,code=sm_80;-gencode;arch=compute_86,code=sm_86;-gencode;arch=compute_90,code=sm_90;-gencode;arch=compute_37,code=compute_37\n",
      "  - CuDNN 8.7\n",
      "  - Magma 2.5.4\n",
      "  - Build settings: BLAS_INFO=mkl, BUILD_TYPE=Release, CUDA_VERSION=11.8, CUDNN_VERSION=8.7.0, CXX_COMPILER=C:/cb/pytorch_1000000000000/work/tmp_bin/sccache-cl.exe, CXX_FLAGS=/DWIN32 /D_WINDOWS /GR /EHsc /w /bigobj /FS -DUSE_PTHREADPOOL -DNDEBUG -DUSE_KINETO -DLIBKINETO_NOCUPTI -DLIBKINETO_NOROCTRACER -DUSE_FBGEMM -DUSE_XNNPACK -DSYMBOLICATE_MOBILE_DEBUG_HANDLE, LAPACK_INFO=mkl, PERF_WITH_AVX=1, PERF_WITH_AVX2=1, PERF_WITH_AVX512=1, TORCH_DISABLE_GPU_ASSERTS=OFF, TORCH_VERSION=2.0.1, USE_CUDA=ON, USE_CUDNN=ON, USE_EXCEPTION_PTR=1, USE_GFLAGS=OFF, USE_GLOG=OFF, USE_MKL=ON, USE_MKLDNN=ON, USE_MPI=OFF, USE_NCCL=OFF, USE_NNPACK=OFF, USE_OPENMP=ON, USE_ROCM=OFF, \n",
      "\n",
      "    TorchVision: 0.15.2\n",
      "    OpenCV: 4.7.0\n",
      "    MMEngine: 0.7.1\n",
      "\n",
      "Runtime environment:\n",
      "    cudnn_benchmark: False\n",
      "    mp_cfg: {'mp_start_method': 'fork', 'opencv_num_threads': 0}\n",
      "    dist_cfg: {'backend': 'nccl'}\n",
      "    seed: None\n",
      "    deterministic: False\n",
      "    Distributed launcher: none\n",
      "    Distributed training: False\n",
      "    GPU number: 1\n",
      "------------------------------------------------------------\n",
      "\n",
      "06/08 00:02:34 - mmengine - \u001b[4m\u001b[97mINFO\u001b[0m - Config:\n",
      "model = dict(\n",
      "    type='ImageClassifier',\n",
      "    backbone=dict(\n",
      "        type='ResNet',\n",
      "        depth=18,\n",
      "        num_stages=4,\n",
      "        out_indices=(3, ),\n",
      "        style='pytorch'),\n",
      "    neck=dict(type='GlobalAveragePooling'),\n",
      "    head=dict(\n",
      "        type='LinearClsHead',\n",
      "        num_classes=2,\n",
      "        in_channels=512,\n",
      "        loss=dict(type='CrossEntropyLoss', loss_weight=1.0),\n",
      "        topk=(1, 5)),\n",
      "    init_cfg=dict(\n",
      "        type='Pretrained',\n",
      "        checkpoint=\n",
      "        'https://download.openmmlab.com/mmclassification/v0/resnet/resnet18_8xb32_in1k_20210831-fbbb1da6.pth'\n",
      "    ))\n",
      "dataset_type = 'CustomDataset'\n",
      "data_preprocessor = dict(\n",
      "    num_classes=1000,\n",
      "    mean=[123.675, 116.28, 103.53],\n",
      "    std=[58.395, 57.12, 57.375],\n",
      "    to_rgb=True)\n",
      "train_pipeline = [\n",
      "    dict(type='LoadImageFromFile'),\n",
      "    dict(type='RandomResizedCrop', scale=224),\n",
      "    dict(type='RandomFlip', prob=0.5, direction='horizontal'),\n",
      "    dict(type='PackInputs')\n",
      "]\n",
      "test_pipeline = [\n",
      "    dict(type='LoadImageFromFile'),\n",
      "    dict(type='ResizeEdge', scale=256, edge='short'),\n",
      "    dict(type='CenterCrop', crop_size=224),\n",
      "    dict(type='PackInputs')\n",
      "]\n",
      "train_dataloader = dict(\n",
      "    pin_memory=True,\n",
      "    persistent_workers=True,\n",
      "    collate_fn=dict(type='default_collate'),\n",
      "    batch_size=32,\n",
      "    num_workers=5,\n",
      "    dataset=dict(\n",
      "        type='CustomDataset',\n",
      "        data_root='./data/cats_dogs_dataset/training_set/',\n",
      "        pipeline=[\n",
      "            dict(type='LoadImageFromFile'),\n",
      "            dict(type='RandomResizedCrop', scale=224),\n",
      "            dict(type='RandomFlip', prob=0.5, direction='horizontal'),\n",
      "            dict(type='PackInputs')\n",
      "        ]),\n",
      "    sampler=dict(type='DefaultSampler', shuffle=True))\n",
      "val_dataloader = dict(\n",
      "    pin_memory=True,\n",
      "    persistent_workers=True,\n",
      "    collate_fn=dict(type='default_collate'),\n",
      "    batch_size=32,\n",
      "    num_workers=5,\n",
      "    dataset=dict(\n",
      "        type='CustomDataset',\n",
      "        data_root='./data/cats_dogs_dataset/val_set/',\n",
      "        pipeline=[\n",
      "            dict(type='LoadImageFromFile'),\n",
      "            dict(type='ResizeEdge', scale=256, edge='short'),\n",
      "            dict(type='CenterCrop', crop_size=224),\n",
      "            dict(type='PackInputs')\n",
      "        ]),\n",
      "    sampler=dict(type='DefaultSampler', shuffle=False))\n",
      "val_evaluator = dict(type='Accuracy', topk=1)\n",
      "test_dataloader = dict(\n",
      "    pin_memory=True,\n",
      "    persistent_workers=True,\n",
      "    collate_fn=dict(type='default_collate'),\n",
      "    batch_size=32,\n",
      "    num_workers=5,\n",
      "    dataset=dict(\n",
      "        type='CustomDataset',\n",
      "        data_root='./data/cats_dogs_dataset/test_set/',\n",
      "        pipeline=[\n",
      "            dict(type='LoadImageFromFile'),\n",
      "            dict(type='ResizeEdge', scale=256, edge='short'),\n",
      "            dict(type='CenterCrop', crop_size=224),\n",
      "            dict(type='PackInputs')\n",
      "        ]),\n",
      "    sampler=dict(type='DefaultSampler', shuffle=False))\n",
      "test_evaluator = dict(type='Accuracy', topk=1)\n",
      "optim_wrapper = dict(\n",
      "    optimizer=dict(type='SGD', lr=0.01, momentum=0.9, weight_decay=0.0001))\n",
      "param_scheduler = dict(\n",
      "    type='MultiStepLR', by_epoch=True, milestones=[30, 60, 90], gamma=0.1)\n",
      "train_cfg = dict(by_epoch=True, max_epochs=5, val_interval=1)\n",
      "val_cfg = dict()\n",
      "test_cfg = dict()\n",
      "default_scope = 'mmpretrain'\n",
      "default_hooks = dict(\n",
      "    timer=dict(type='IterTimerHook'),\n",
      "    logger=dict(type='LoggerHook', interval=100),\n",
      "    param_scheduler=dict(type='ParamSchedulerHook'),\n",
      "    checkpoint=dict(type='CheckpointHook', interval=1),\n",
      "    sampler_seed=dict(type='DistSamplerSeedHook'),\n",
      "    visualization=dict(type='VisualizationHook', enable=False))\n",
      "env_cfg = dict(\n",
      "    cudnn_benchmark=False,\n",
      "    mp_cfg=dict(mp_start_method='fork', opencv_num_threads=0),\n",
      "    dist_cfg=dict(backend='nccl'))\n",
      "vis_backends = [dict(type='LocalVisBackend')]\n",
      "visualizer = dict(\n",
      "    type='UniversalVisualizer', vis_backends=[dict(type='LocalVisBackend')])\n",
      "log_level = 'INFO'\n",
      "load_from = None\n",
      "resume = False\n",
      "randomness = dict(seed=None, deterministic=False)\n",
      "launcher = 'none'\n",
      "work_dir = './exp'\n",
      "\n",
      "06/08 00:02:36 - mmengine - \u001b[4m\u001b[97mINFO\u001b[0m - Distributed training is not used, all SyncBatchNorm (SyncBN) layers in the model will be automatically reverted to BatchNormXd layers if they are used.\n",
      "06/08 00:02:36 - mmengine - \u001b[4m\u001b[97mINFO\u001b[0m - Hooks will be executed in the following order:\n",
      "before_run:\n",
      "(VERY_HIGH   ) RuntimeInfoHook                    \n",
      "(BELOW_NORMAL) LoggerHook                         \n",
      " -------------------- \n",
      "before_train:\n",
      "(VERY_HIGH   ) RuntimeInfoHook                    \n",
      "(NORMAL      ) IterTimerHook                      \n",
      "(VERY_LOW    ) CheckpointHook                     \n",
      " -------------------- \n",
      "before_train_epoch:\n",
      "(VERY_HIGH   ) RuntimeInfoHook                    \n",
      "(NORMAL      ) IterTimerHook                      \n",
      "(NORMAL      ) DistSamplerSeedHook                \n",
      " -------------------- \n",
      "before_train_iter:\n",
      "(VERY_HIGH   ) RuntimeInfoHook                    \n",
      "(NORMAL      ) IterTimerHook                      \n",
      " -------------------- \n",
      "after_train_iter:\n",
      "(VERY_HIGH   ) RuntimeInfoHook                    \n",
      "(NORMAL      ) IterTimerHook                      \n",
      "(BELOW_NORMAL) LoggerHook                         \n",
      "(LOW         ) ParamSchedulerHook                 \n",
      "(VERY_LOW    ) CheckpointHook                     \n",
      " -------------------- \n",
      "after_train_epoch:\n",
      "(NORMAL      ) IterTimerHook                      \n",
      "(LOW         ) ParamSchedulerHook                 \n",
      "(VERY_LOW    ) CheckpointHook                     \n",
      " -------------------- \n",
      "before_val_epoch:\n",
      "(NORMAL      ) IterTimerHook                      \n",
      " -------------------- \n",
      "before_val_iter:\n",
      "(NORMAL      ) IterTimerHook                      \n",
      " -------------------- \n",
      "after_val_iter:\n",
      "(NORMAL      ) IterTimerHook                      \n",
      "(NORMAL      ) VisualizationHook                  \n",
      "(BELOW_NORMAL) LoggerHook                         \n",
      " -------------------- \n",
      "after_val_epoch:\n",
      "(VERY_HIGH   ) RuntimeInfoHook                    \n",
      "(NORMAL      ) IterTimerHook                      \n",
      "(BELOW_NORMAL) LoggerHook                         \n",
      "(LOW         ) ParamSchedulerHook                 \n",
      "(VERY_LOW    ) CheckpointHook                     \n",
      " -------------------- \n",
      "after_train:\n",
      "(VERY_LOW    ) CheckpointHook                     \n",
      " -------------------- \n",
      "before_test_epoch:\n",
      "(NORMAL      ) IterTimerHook                      \n",
      " -------------------- \n",
      "before_test_iter:\n",
      "(NORMAL      ) IterTimerHook                      \n",
      " -------------------- \n",
      "after_test_iter:\n",
      "(NORMAL      ) IterTimerHook                      \n",
      "(NORMAL      ) VisualizationHook                  \n",
      "(BELOW_NORMAL) LoggerHook                         \n",
      " -------------------- \n",
      "after_test_epoch:\n",
      "(VERY_HIGH   ) RuntimeInfoHook                    \n",
      "(NORMAL      ) IterTimerHook                      \n",
      "(BELOW_NORMAL) LoggerHook                         \n",
      " -------------------- \n",
      "after_run:\n",
      "(BELOW_NORMAL) LoggerHook                         \n",
      " -------------------- \n",
      "06/08 00:02:38 - mmengine - \u001b[4m\u001b[97mINFO\u001b[0m - load model from: https://download.openmmlab.com/mmclassification/v0/resnet/resnet18_8xb32_in1k_20210831-fbbb1da6.pth\n",
      "06/08 00:02:38 - mmengine - \u001b[4m\u001b[97mINFO\u001b[0m - Loads checkpoint by http backend from path: https://download.openmmlab.com/mmclassification/v0/resnet/resnet18_8xb32_in1k_20210831-fbbb1da6.pth\n",
      "06/08 00:02:39 - mmengine - \u001b[5m\u001b[4m\u001b[33mWARNING\u001b[0m - The model and loaded state dict do not match exactly\n",
      "\n",
      "size mismatch for head.fc.weight: copying a param with shape torch.Size([1000, 512]) from checkpoint, the shape in current model is torch.Size([2, 512]).\n",
      "size mismatch for head.fc.bias: copying a param with shape torch.Size([1000]) from checkpoint, the shape in current model is torch.Size([2]).\n",
      "06/08 00:02:39 - mmengine - \u001b[5m\u001b[4m\u001b[33mWARNING\u001b[0m - \"FileClient\" will be deprecated in future. Please use io functions in https://mmengine.readthedocs.io/en/latest/api/fileio.html#file-io\n",
      "06/08 00:02:39 - mmengine - \u001b[5m\u001b[4m\u001b[33mWARNING\u001b[0m - \"HardDiskBackend\" is the alias of \"LocalBackend\" and the former will be deprecated in future.\n",
      "06/08 00:02:39 - mmengine - \u001b[4m\u001b[97mINFO\u001b[0m - Checkpoints will be saved to C:\\Users\\Roger\\Desktop\\mmlab\\mmpretrain\\note\\exp.\n",
      "06/08 00:02:55 - mmengine - \u001b[4m\u001b[97mINFO\u001b[0m - Epoch(train) [1][100/201]  lr: 1.0000e-02  eta: 0:02:17  time: 0.0150  data_time: 0.0006  memory: 822  loss: 0.5602\n",
      "06/08 00:02:56 - mmengine - \u001b[4m\u001b[97mINFO\u001b[0m - Epoch(train) [1][200/201]  lr: 1.0000e-02  eta: 0:01:07  time: 0.0149  data_time: 0.0001  memory: 822  loss: 0.2146\n",
      "06/08 00:02:56 - mmengine - \u001b[4m\u001b[97mINFO\u001b[0m - Exp name: resnet18_finetune_20230608_000233\n",
      "06/08 00:02:56 - mmengine - \u001b[4m\u001b[97mINFO\u001b[0m - Saving checkpoint at 1 epochs\n",
      "06/08 00:03:09 - mmengine - \u001b[4m\u001b[97mINFO\u001b[0m - Epoch(val) [1][51/51]  accuracy/top1: 95.2530  data_time: 0.0019  time: 0.0088\n",
      "06/08 00:03:10 - mmengine - \u001b[4m\u001b[97mINFO\u001b[0m - Epoch(train) [2][100/201]  lr: 1.0000e-02  eta: 0:00:42  time: 0.0149  data_time: 0.0005  memory: 822  loss: 0.1324\n",
      "06/08 00:03:12 - mmengine - \u001b[4m\u001b[97mINFO\u001b[0m - Epoch(train) [2][200/201]  lr: 1.0000e-02  eta: 0:00:29  time: 0.0148  data_time: 0.0003  memory: 822  loss: 0.3190\n",
      "06/08 00:03:12 - mmengine - \u001b[4m\u001b[97mINFO\u001b[0m - Exp name: resnet18_finetune_20230608_000233\n",
      "06/08 00:03:12 - mmengine - \u001b[4m\u001b[97mINFO\u001b[0m - Saving checkpoint at 2 epochs\n",
      "06/08 00:03:13 - mmengine - \u001b[4m\u001b[97mINFO\u001b[0m - Epoch(val) [2][51/51]  accuracy/top1: 95.9400  data_time: 0.0017  time: 0.0063\n",
      "06/08 00:03:14 - mmengine - \u001b[4m\u001b[97mINFO\u001b[0m - Epoch(train) [3][100/201]  lr: 1.0000e-02  eta: 0:00:21  time: 0.0151  data_time: 0.0005  memory: 822  loss: 0.1753\n",
      "06/08 00:03:16 - mmengine - \u001b[4m\u001b[97mINFO\u001b[0m - Epoch(train) [3][200/201]  lr: 1.0000e-02  eta: 0:00:15  time: 0.0148  data_time: 0.0004  memory: 822  loss: 0.1784\n",
      "06/08 00:03:16 - mmengine - \u001b[4m\u001b[97mINFO\u001b[0m - Exp name: resnet18_finetune_20230608_000233\n",
      "06/08 00:03:16 - mmengine - \u001b[4m\u001b[97mINFO\u001b[0m - Saving checkpoint at 3 epochs\n",
      "06/08 00:03:17 - mmengine - \u001b[4m\u001b[97mINFO\u001b[0m - Epoch(val) [3][51/51]  accuracy/top1: 95.0031  data_time: 0.0011  time: 0.0056\n",
      "06/08 00:03:18 - mmengine - \u001b[4m\u001b[97mINFO\u001b[0m - Epoch(train) [4][100/201]  lr: 1.0000e-02  eta: 0:00:10  time: 0.0152  data_time: 0.0006  memory: 822  loss: 0.1771\n",
      "06/08 00:03:20 - mmengine - \u001b[4m\u001b[97mINFO\u001b[0m - Epoch(train) [4][200/201]  lr: 1.0000e-02  eta: 0:00:06  time: 0.0149  data_time: 0.0003  memory: 822  loss: 0.1991\n",
      "06/08 00:03:20 - mmengine - \u001b[4m\u001b[97mINFO\u001b[0m - Exp name: resnet18_finetune_20230608_000233\n",
      "06/08 00:03:20 - mmengine - \u001b[4m\u001b[97mINFO\u001b[0m - Saving checkpoint at 4 epochs\n",
      "06/08 00:03:21 - mmengine - \u001b[4m\u001b[97mINFO\u001b[0m - Epoch(val) [4][51/51]  accuracy/top1: 95.2530  data_time: 0.0011  time: 0.0059\n",
      "06/08 00:03:22 - mmengine - \u001b[4m\u001b[97mINFO\u001b[0m - Epoch(train) [5][100/201]  lr: 1.0000e-02  eta: 0:00:03  time: 0.0150  data_time: 0.0001  memory: 822  loss: 0.1988\n",
      "06/08 00:03:24 - mmengine - \u001b[4m\u001b[97mINFO\u001b[0m - Exp name: resnet18_finetune_20230608_000233\n",
      "06/08 00:03:24 - mmengine - \u001b[4m\u001b[97mINFO\u001b[0m - Epoch(train) [5][200/201]  lr: 1.0000e-02  eta: 0:00:00  time: 0.0148  data_time: 0.0003  memory: 822  loss: 0.1763\n",
      "06/08 00:03:24 - mmengine - \u001b[4m\u001b[97mINFO\u001b[0m - Exp name: resnet18_finetune_20230608_000233\n",
      "06/08 00:03:24 - mmengine - \u001b[4m\u001b[97mINFO\u001b[0m - Saving checkpoint at 5 epochs\n",
      "06/08 00:03:25 - mmengine - \u001b[4m\u001b[97mINFO\u001b[0m - Epoch(val) [5][51/51]  accuracy/top1: 97.0019  data_time: 0.0008  time: 0.0054\n",
      "Training finished successfully. \n"
     ]
    },
    {
     "name": "stderr",
     "output_type": "stream",
     "text": [
      "Downloading: \"https://download.openmmlab.com/mmclassification/v0/resnet/resnet18_8xb32_in1k_20210831-fbbb1da6.pth\" to C:\\Users\\Roger/.cache\\torch\\hub\\checkpoints\\resnet18_8xb32_in1k_20210831-fbbb1da6.pth\n"
     ]
    }
   ],
   "source": [
    "!mim train mmpretrain ./data/resnet18_finetune.py --work-dir=./exp"
   ]
  },
  {
   "cell_type": "code",
   "execution_count": 35,
   "metadata": {
    "ExecuteTime": {
     "end_time": "2023-06-07T16:06:08.302741200Z",
     "start_time": "2023-06-07T16:05:46.709789200Z"
    },
    "collapsed": false
   },
   "outputs": [
    {
     "name": "stdout",
     "output_type": "stream",
     "text": [
      "Testing command is C:\\Users\\Roger\\anaconda3\\envs\\mmlab\\python.exe c:\\users\\roger\\desktop\\mmlab\\mmpretrain\\mmpretrain\\.mim\\tools\\test.py ./data/resnet18_finetune.py ./exp/epoch_5.pth --launcher none. \n",
      "06/08 00:05:50 - mmengine - \u001b[4m\u001b[97mINFO\u001b[0m - \n",
      "------------------------------------------------------------\n",
      "System environment:\n",
      "    sys.platform: win32\n",
      "    Python: 3.8.16 (default, Mar  2 2023, 03:18:16) [MSC v.1916 64 bit (AMD64)]\n",
      "    CUDA available: True\n",
      "    numpy_random_seed: 222402834\n",
      "    GPU 0: NVIDIA GeForce RTX 4090\n",
      "    CUDA_HOME: C:\\Program Files\\NVIDIA GPU Computing Toolkit\\CUDA\\v12.1\n",
      "    NVCC: Cuda compilation tools, release 12.1, V12.1.105\n",
      "    MSVC: 用于 x64 的 Microsoft (R) C/C++ 优化编译器 19.36.32532 版\n",
      "    GCC: n/a\n",
      "    PyTorch: 2.0.1\n",
      "    PyTorch compiling details: PyTorch built with:\n",
      "  - C++ Version: 199711\n",
      "  - MSVC 193431937\n",
      "  - Intel(R) Math Kernel Library Version 2020.0.2 Product Build 20200624 for Intel(R) 64 architecture applications\n",
      "  - Intel(R) MKL-DNN v2.7.3 (Git Hash 6dbeffbae1f23cbbeae17adb7b5b13f1f37c080e)\n",
      "  - OpenMP 2019\n",
      "  - LAPACK is enabled (usually provided by MKL)\n",
      "  - CPU capability usage: AVX2\n",
      "  - CUDA Runtime 11.8\n",
      "  - NVCC architecture flags: -gencode;arch=compute_37,code=sm_37;-gencode;arch=compute_50,code=sm_50;-gencode;arch=compute_60,code=sm_60;-gencode;arch=compute_61,code=sm_61;-gencode;arch=compute_70,code=sm_70;-gencode;arch=compute_75,code=sm_75;-gencode;arch=compute_80,code=sm_80;-gencode;arch=compute_86,code=sm_86;-gencode;arch=compute_90,code=sm_90;-gencode;arch=compute_37,code=compute_37\n",
      "  - CuDNN 8.7\n",
      "  - Magma 2.5.4\n",
      "  - Build settings: BLAS_INFO=mkl, BUILD_TYPE=Release, CUDA_VERSION=11.8, CUDNN_VERSION=8.7.0, CXX_COMPILER=C:/cb/pytorch_1000000000000/work/tmp_bin/sccache-cl.exe, CXX_FLAGS=/DWIN32 /D_WINDOWS /GR /EHsc /w /bigobj /FS -DUSE_PTHREADPOOL -DNDEBUG -DUSE_KINETO -DLIBKINETO_NOCUPTI -DLIBKINETO_NOROCTRACER -DUSE_FBGEMM -DUSE_XNNPACK -DSYMBOLICATE_MOBILE_DEBUG_HANDLE, LAPACK_INFO=mkl, PERF_WITH_AVX=1, PERF_WITH_AVX2=1, PERF_WITH_AVX512=1, TORCH_DISABLE_GPU_ASSERTS=OFF, TORCH_VERSION=2.0.1, USE_CUDA=ON, USE_CUDNN=ON, USE_EXCEPTION_PTR=1, USE_GFLAGS=OFF, USE_GLOG=OFF, USE_MKL=ON, USE_MKLDNN=ON, USE_MPI=OFF, USE_NCCL=OFF, USE_NNPACK=OFF, USE_OPENMP=ON, USE_ROCM=OFF, \n",
      "\n",
      "    TorchVision: 0.15.2\n",
      "    OpenCV: 4.7.0\n",
      "    MMEngine: 0.7.1\n",
      "\n",
      "Runtime environment:\n",
      "    cudnn_benchmark: False\n",
      "    mp_cfg: {'mp_start_method': 'fork', 'opencv_num_threads': 0}\n",
      "    dist_cfg: {'backend': 'nccl'}\n",
      "    seed: None\n",
      "    deterministic: False\n",
      "    Distributed launcher: none\n",
      "    Distributed training: False\n",
      "    GPU number: 1\n",
      "------------------------------------------------------------\n",
      "\n",
      "06/08 00:05:50 - mmengine - \u001b[4m\u001b[97mINFO\u001b[0m - Config:\n",
      "model = dict(\n",
      "    type='ImageClassifier',\n",
      "    backbone=dict(\n",
      "        type='ResNet',\n",
      "        depth=18,\n",
      "        num_stages=4,\n",
      "        out_indices=(3, ),\n",
      "        style='pytorch'),\n",
      "    neck=dict(type='GlobalAveragePooling'),\n",
      "    head=dict(\n",
      "        type='LinearClsHead',\n",
      "        num_classes=2,\n",
      "        in_channels=512,\n",
      "        loss=dict(type='CrossEntropyLoss', loss_weight=1.0),\n",
      "        topk=(1, 5)),\n",
      "    init_cfg=dict(\n",
      "        type='Pretrained',\n",
      "        checkpoint=\n",
      "        'https://download.openmmlab.com/mmclassification/v0/resnet/resnet18_8xb32_in1k_20210831-fbbb1da6.pth'\n",
      "    ))\n",
      "dataset_type = 'CustomDataset'\n",
      "data_preprocessor = dict(\n",
      "    num_classes=1000,\n",
      "    mean=[123.675, 116.28, 103.53],\n",
      "    std=[58.395, 57.12, 57.375],\n",
      "    to_rgb=True)\n",
      "train_pipeline = [\n",
      "    dict(type='LoadImageFromFile'),\n",
      "    dict(type='RandomResizedCrop', scale=224),\n",
      "    dict(type='RandomFlip', prob=0.5, direction='horizontal'),\n",
      "    dict(type='PackInputs')\n",
      "]\n",
      "test_pipeline = [\n",
      "    dict(type='LoadImageFromFile'),\n",
      "    dict(type='ResizeEdge', scale=256, edge='short'),\n",
      "    dict(type='CenterCrop', crop_size=224),\n",
      "    dict(type='PackInputs')\n",
      "]\n",
      "train_dataloader = dict(\n",
      "    batch_size=32,\n",
      "    num_workers=5,\n",
      "    dataset=dict(\n",
      "        type='CustomDataset',\n",
      "        data_root='./data/cats_dogs_dataset/training_set/',\n",
      "        pipeline=[\n",
      "            dict(type='LoadImageFromFile'),\n",
      "            dict(type='RandomResizedCrop', scale=224),\n",
      "            dict(type='RandomFlip', prob=0.5, direction='horizontal'),\n",
      "            dict(type='PackInputs')\n",
      "        ]),\n",
      "    sampler=dict(type='DefaultSampler', shuffle=True))\n",
      "val_dataloader = dict(\n",
      "    batch_size=32,\n",
      "    num_workers=5,\n",
      "    dataset=dict(\n",
      "        type='CustomDataset',\n",
      "        data_root='./data/cats_dogs_dataset/val_set/',\n",
      "        pipeline=[\n",
      "            dict(type='LoadImageFromFile'),\n",
      "            dict(type='ResizeEdge', scale=256, edge='short'),\n",
      "            dict(type='CenterCrop', crop_size=224),\n",
      "            dict(type='PackInputs')\n",
      "        ]),\n",
      "    sampler=dict(type='DefaultSampler', shuffle=False))\n",
      "val_evaluator = dict(type='Accuracy', topk=1)\n",
      "test_dataloader = dict(\n",
      "    pin_memory=True,\n",
      "    collate_fn=dict(type='default_collate'),\n",
      "    batch_size=32,\n",
      "    num_workers=5,\n",
      "    dataset=dict(\n",
      "        type='CustomDataset',\n",
      "        data_root='./data/cats_dogs_dataset/test_set/',\n",
      "        pipeline=[\n",
      "            dict(type='LoadImageFromFile'),\n",
      "            dict(type='ResizeEdge', scale=256, edge='short'),\n",
      "            dict(type='CenterCrop', crop_size=224),\n",
      "            dict(type='PackInputs')\n",
      "        ]),\n",
      "    sampler=dict(type='DefaultSampler', shuffle=False))\n",
      "test_evaluator = dict(type='Accuracy', topk=1)\n",
      "optim_wrapper = dict(\n",
      "    optimizer=dict(type='SGD', lr=0.01, momentum=0.9, weight_decay=0.0001))\n",
      "param_scheduler = dict(\n",
      "    type='MultiStepLR', by_epoch=True, milestones=[30, 60, 90], gamma=0.1)\n",
      "train_cfg = dict(by_epoch=True, max_epochs=5, val_interval=1)\n",
      "val_cfg = dict()\n",
      "test_cfg = dict()\n",
      "default_scope = 'mmpretrain'\n",
      "default_hooks = dict(\n",
      "    timer=dict(type='IterTimerHook'),\n",
      "    logger=dict(type='LoggerHook', interval=100),\n",
      "    param_scheduler=dict(type='ParamSchedulerHook'),\n",
      "    checkpoint=dict(type='CheckpointHook', interval=1),\n",
      "    sampler_seed=dict(type='DistSamplerSeedHook'),\n",
      "    visualization=dict(type='VisualizationHook', enable=False))\n",
      "env_cfg = dict(\n",
      "    cudnn_benchmark=False,\n",
      "    mp_cfg=dict(mp_start_method='fork', opencv_num_threads=0),\n",
      "    dist_cfg=dict(backend='nccl'))\n",
      "vis_backends = [dict(type='LocalVisBackend')]\n",
      "visualizer = dict(\n",
      "    type='UniversalVisualizer', vis_backends=[dict(type='LocalVisBackend')])\n",
      "log_level = 'INFO'\n",
      "load_from = './exp/epoch_5.pth'\n",
      "resume = False\n",
      "randomness = dict(seed=None, deterministic=False)\n",
      "launcher = 'none'\n",
      "work_dir = './work_dirs\\\\resnet18_finetune'\n",
      "\n",
      "06/08 00:05:52 - mmengine - \u001b[4m\u001b[97mINFO\u001b[0m - Distributed training is not used, all SyncBatchNorm (SyncBN) layers in the model will be automatically reverted to BatchNormXd layers if they are used.\n",
      "06/08 00:05:52 - mmengine - \u001b[4m\u001b[97mINFO\u001b[0m - Hooks will be executed in the following order:\n",
      "before_run:\n",
      "(VERY_HIGH   ) RuntimeInfoHook                    \n",
      "(BELOW_NORMAL) LoggerHook                         \n",
      " -------------------- \n",
      "before_train:\n",
      "(VERY_HIGH   ) RuntimeInfoHook                    \n",
      "(NORMAL      ) IterTimerHook                      \n",
      "(VERY_LOW    ) CheckpointHook                     \n",
      " -------------------- \n",
      "before_train_epoch:\n",
      "(VERY_HIGH   ) RuntimeInfoHook                    \n",
      "(NORMAL      ) IterTimerHook                      \n",
      "(NORMAL      ) DistSamplerSeedHook                \n",
      " -------------------- \n",
      "before_train_iter:\n",
      "(VERY_HIGH   ) RuntimeInfoHook                    \n",
      "(NORMAL      ) IterTimerHook                      \n",
      " -------------------- \n",
      "after_train_iter:\n",
      "(VERY_HIGH   ) RuntimeInfoHook                    \n",
      "(NORMAL      ) IterTimerHook                      \n",
      "(BELOW_NORMAL) LoggerHook                         \n",
      "(LOW         ) ParamSchedulerHook                 \n",
      "(VERY_LOW    ) CheckpointHook                     \n",
      " -------------------- \n",
      "after_train_epoch:\n",
      "(NORMAL      ) IterTimerHook                      \n",
      "(LOW         ) ParamSchedulerHook                 \n",
      "(VERY_LOW    ) CheckpointHook                     \n",
      " -------------------- \n",
      "before_val_epoch:\n",
      "(NORMAL      ) IterTimerHook                      \n",
      " -------------------- \n",
      "before_val_iter:\n",
      "(NORMAL      ) IterTimerHook                      \n",
      " -------------------- \n",
      "after_val_iter:\n",
      "(NORMAL      ) IterTimerHook                      \n",
      "(NORMAL      ) VisualizationHook                  \n",
      "(BELOW_NORMAL) LoggerHook                         \n",
      " -------------------- \n",
      "after_val_epoch:\n",
      "(VERY_HIGH   ) RuntimeInfoHook                    \n",
      "(NORMAL      ) IterTimerHook                      \n",
      "(BELOW_NORMAL) LoggerHook                         \n",
      "(LOW         ) ParamSchedulerHook                 \n",
      "(VERY_LOW    ) CheckpointHook                     \n",
      " -------------------- \n",
      "after_train:\n",
      "(VERY_LOW    ) CheckpointHook                     \n",
      " -------------------- \n",
      "before_test_epoch:\n",
      "(NORMAL      ) IterTimerHook                      \n",
      " -------------------- \n",
      "before_test_iter:\n",
      "(NORMAL      ) IterTimerHook                      \n",
      " -------------------- \n",
      "after_test_iter:\n",
      "(NORMAL      ) IterTimerHook                      \n",
      "(NORMAL      ) VisualizationHook                  \n",
      "(BELOW_NORMAL) LoggerHook                         \n",
      " -------------------- \n",
      "after_test_epoch:\n",
      "(VERY_HIGH   ) RuntimeInfoHook                    \n",
      "(NORMAL      ) IterTimerHook                      \n",
      "(BELOW_NORMAL) LoggerHook                         \n",
      " -------------------- \n",
      "after_run:\n",
      "(BELOW_NORMAL) LoggerHook                         \n",
      " -------------------- \n",
      "Loads checkpoint by local backend from path: ./exp/epoch_5.pth\n",
      "06/08 00:05:53 - mmengine - \u001b[4m\u001b[97mINFO\u001b[0m - Load checkpoint from ./exp/epoch_5.pth\n",
      "06/08 00:06:07 - mmengine - \u001b[4m\u001b[97mINFO\u001b[0m - Epoch(test) [64/64]  accuracy/top1: 96.5398  data_time: 0.0024  time: 0.0094\n",
      "Testing finished successfully.\n"
     ]
    }
   ],
   "source": [
    "!mim test mmpretrain ./data/resnet18_finetune.py --checkpoint ./exp/epoch_5.pth"
   ]
  },
  {
   "cell_type": "code",
   "execution_count": 36,
   "metadata": {
    "ExecuteTime": {
     "end_time": "2023-06-07T16:07:08.476113800Z",
     "start_time": "2023-06-07T16:06:46.583238Z"
    },
    "collapsed": false
   },
   "outputs": [
    {
     "name": "stdout",
     "output_type": "stream",
     "text": [
      "Testing command is C:\\Users\\Roger\\anaconda3\\envs\\mmlab\\python.exe c:\\users\\roger\\desktop\\mmlab\\mmpretrain\\mmpretrain\\.mim\\tools\\test.py ./data/resnet18_finetune.py ./exp/epoch_5.pth --launcher none --out result.pkl. \n",
      "06/08 00:06:50 - mmengine - \u001b[4m\u001b[97mINFO\u001b[0m - \n",
      "------------------------------------------------------------\n",
      "System environment:\n",
      "    sys.platform: win32\n",
      "    Python: 3.8.16 (default, Mar  2 2023, 03:18:16) [MSC v.1916 64 bit (AMD64)]\n",
      "    CUDA available: True\n",
      "    numpy_random_seed: 208706852\n",
      "    GPU 0: NVIDIA GeForce RTX 4090\n",
      "    CUDA_HOME: C:\\Program Files\\NVIDIA GPU Computing Toolkit\\CUDA\\v12.1\n",
      "    NVCC: Cuda compilation tools, release 12.1, V12.1.105\n",
      "    MSVC: 用于 x64 的 Microsoft (R) C/C++ 优化编译器 19.36.32532 版\n",
      "    GCC: n/a\n",
      "    PyTorch: 2.0.1\n",
      "    PyTorch compiling details: PyTorch built with:\n",
      "  - C++ Version: 199711\n",
      "  - MSVC 193431937\n",
      "  - Intel(R) Math Kernel Library Version 2020.0.2 Product Build 20200624 for Intel(R) 64 architecture applications\n",
      "  - Intel(R) MKL-DNN v2.7.3 (Git Hash 6dbeffbae1f23cbbeae17adb7b5b13f1f37c080e)\n",
      "  - OpenMP 2019\n",
      "  - LAPACK is enabled (usually provided by MKL)\n",
      "  - CPU capability usage: AVX2\n",
      "  - CUDA Runtime 11.8\n",
      "  - NVCC architecture flags: -gencode;arch=compute_37,code=sm_37;-gencode;arch=compute_50,code=sm_50;-gencode;arch=compute_60,code=sm_60;-gencode;arch=compute_61,code=sm_61;-gencode;arch=compute_70,code=sm_70;-gencode;arch=compute_75,code=sm_75;-gencode;arch=compute_80,code=sm_80;-gencode;arch=compute_86,code=sm_86;-gencode;arch=compute_90,code=sm_90;-gencode;arch=compute_37,code=compute_37\n",
      "  - CuDNN 8.7\n",
      "  - Magma 2.5.4\n",
      "  - Build settings: BLAS_INFO=mkl, BUILD_TYPE=Release, CUDA_VERSION=11.8, CUDNN_VERSION=8.7.0, CXX_COMPILER=C:/cb/pytorch_1000000000000/work/tmp_bin/sccache-cl.exe, CXX_FLAGS=/DWIN32 /D_WINDOWS /GR /EHsc /w /bigobj /FS -DUSE_PTHREADPOOL -DNDEBUG -DUSE_KINETO -DLIBKINETO_NOCUPTI -DLIBKINETO_NOROCTRACER -DUSE_FBGEMM -DUSE_XNNPACK -DSYMBOLICATE_MOBILE_DEBUG_HANDLE, LAPACK_INFO=mkl, PERF_WITH_AVX=1, PERF_WITH_AVX2=1, PERF_WITH_AVX512=1, TORCH_DISABLE_GPU_ASSERTS=OFF, TORCH_VERSION=2.0.1, USE_CUDA=ON, USE_CUDNN=ON, USE_EXCEPTION_PTR=1, USE_GFLAGS=OFF, USE_GLOG=OFF, USE_MKL=ON, USE_MKLDNN=ON, USE_MPI=OFF, USE_NCCL=OFF, USE_NNPACK=OFF, USE_OPENMP=ON, USE_ROCM=OFF, \n",
      "\n",
      "    TorchVision: 0.15.2\n",
      "    OpenCV: 4.7.0\n",
      "    MMEngine: 0.7.1\n",
      "\n",
      "Runtime environment:\n",
      "    cudnn_benchmark: False\n",
      "    mp_cfg: {'mp_start_method': 'fork', 'opencv_num_threads': 0}\n",
      "    dist_cfg: {'backend': 'nccl'}\n",
      "    seed: None\n",
      "    deterministic: False\n",
      "    Distributed launcher: none\n",
      "    Distributed training: False\n",
      "    GPU number: 1\n",
      "------------------------------------------------------------\n",
      "\n",
      "06/08 00:06:50 - mmengine - \u001b[4m\u001b[97mINFO\u001b[0m - Config:\n",
      "model = dict(\n",
      "    type='ImageClassifier',\n",
      "    backbone=dict(\n",
      "        type='ResNet',\n",
      "        depth=18,\n",
      "        num_stages=4,\n",
      "        out_indices=(3, ),\n",
      "        style='pytorch'),\n",
      "    neck=dict(type='GlobalAveragePooling'),\n",
      "    head=dict(\n",
      "        type='LinearClsHead',\n",
      "        num_classes=2,\n",
      "        in_channels=512,\n",
      "        loss=dict(type='CrossEntropyLoss', loss_weight=1.0),\n",
      "        topk=(1, 5)),\n",
      "    init_cfg=dict(\n",
      "        type='Pretrained',\n",
      "        checkpoint=\n",
      "        'https://download.openmmlab.com/mmclassification/v0/resnet/resnet18_8xb32_in1k_20210831-fbbb1da6.pth'\n",
      "    ))\n",
      "dataset_type = 'CustomDataset'\n",
      "data_preprocessor = dict(\n",
      "    num_classes=1000,\n",
      "    mean=[123.675, 116.28, 103.53],\n",
      "    std=[58.395, 57.12, 57.375],\n",
      "    to_rgb=True)\n",
      "train_pipeline = [\n",
      "    dict(type='LoadImageFromFile'),\n",
      "    dict(type='RandomResizedCrop', scale=224),\n",
      "    dict(type='RandomFlip', prob=0.5, direction='horizontal'),\n",
      "    dict(type='PackInputs')\n",
      "]\n",
      "test_pipeline = [\n",
      "    dict(type='LoadImageFromFile'),\n",
      "    dict(type='ResizeEdge', scale=256, edge='short'),\n",
      "    dict(type='CenterCrop', crop_size=224),\n",
      "    dict(type='PackInputs')\n",
      "]\n",
      "train_dataloader = dict(\n",
      "    batch_size=32,\n",
      "    num_workers=5,\n",
      "    dataset=dict(\n",
      "        type='CustomDataset',\n",
      "        data_root='./data/cats_dogs_dataset/training_set/',\n",
      "        pipeline=[\n",
      "            dict(type='LoadImageFromFile'),\n",
      "            dict(type='RandomResizedCrop', scale=224),\n",
      "            dict(type='RandomFlip', prob=0.5, direction='horizontal'),\n",
      "            dict(type='PackInputs')\n",
      "        ]),\n",
      "    sampler=dict(type='DefaultSampler', shuffle=True))\n",
      "val_dataloader = dict(\n",
      "    batch_size=32,\n",
      "    num_workers=5,\n",
      "    dataset=dict(\n",
      "        type='CustomDataset',\n",
      "        data_root='./data/cats_dogs_dataset/val_set/',\n",
      "        pipeline=[\n",
      "            dict(type='LoadImageFromFile'),\n",
      "            dict(type='ResizeEdge', scale=256, edge='short'),\n",
      "            dict(type='CenterCrop', crop_size=224),\n",
      "            dict(type='PackInputs')\n",
      "        ]),\n",
      "    sampler=dict(type='DefaultSampler', shuffle=False))\n",
      "val_evaluator = dict(type='Accuracy', topk=1)\n",
      "test_dataloader = dict(\n",
      "    pin_memory=True,\n",
      "    collate_fn=dict(type='default_collate'),\n",
      "    batch_size=32,\n",
      "    num_workers=5,\n",
      "    dataset=dict(\n",
      "        type='CustomDataset',\n",
      "        data_root='./data/cats_dogs_dataset/test_set/',\n",
      "        pipeline=[\n",
      "            dict(type='LoadImageFromFile'),\n",
      "            dict(type='ResizeEdge', scale=256, edge='short'),\n",
      "            dict(type='CenterCrop', crop_size=224),\n",
      "            dict(type='PackInputs')\n",
      "        ]),\n",
      "    sampler=dict(type='DefaultSampler', shuffle=False))\n",
      "test_evaluator = dict(type='Accuracy', topk=1)\n",
      "optim_wrapper = dict(\n",
      "    optimizer=dict(type='SGD', lr=0.01, momentum=0.9, weight_decay=0.0001))\n",
      "param_scheduler = dict(\n",
      "    type='MultiStepLR', by_epoch=True, milestones=[30, 60, 90], gamma=0.1)\n",
      "train_cfg = dict(by_epoch=True, max_epochs=5, val_interval=1)\n",
      "val_cfg = dict()\n",
      "test_cfg = dict()\n",
      "default_scope = 'mmpretrain'\n",
      "default_hooks = dict(\n",
      "    timer=dict(type='IterTimerHook'),\n",
      "    logger=dict(type='LoggerHook', interval=100),\n",
      "    param_scheduler=dict(type='ParamSchedulerHook'),\n",
      "    checkpoint=dict(type='CheckpointHook', interval=1),\n",
      "    sampler_seed=dict(type='DistSamplerSeedHook'),\n",
      "    visualization=dict(type='VisualizationHook', enable=False))\n",
      "env_cfg = dict(\n",
      "    cudnn_benchmark=False,\n",
      "    mp_cfg=dict(mp_start_method='fork', opencv_num_threads=0),\n",
      "    dist_cfg=dict(backend='nccl'))\n",
      "vis_backends = [dict(type='LocalVisBackend')]\n",
      "visualizer = dict(\n",
      "    type='UniversalVisualizer', vis_backends=[dict(type='LocalVisBackend')])\n",
      "log_level = 'INFO'\n",
      "load_from = './exp/epoch_5.pth'\n",
      "resume = False\n",
      "randomness = dict(seed=None, deterministic=False)\n",
      "launcher = 'none'\n",
      "work_dir = './work_dirs\\\\resnet18_finetune'\n",
      "\n",
      "06/08 00:06:52 - mmengine - \u001b[4m\u001b[97mINFO\u001b[0m - Distributed training is not used, all SyncBatchNorm (SyncBN) layers in the model will be automatically reverted to BatchNormXd layers if they are used.\n",
      "06/08 00:06:52 - mmengine - \u001b[4m\u001b[97mINFO\u001b[0m - Hooks will be executed in the following order:\n",
      "before_run:\n",
      "(VERY_HIGH   ) RuntimeInfoHook                    \n",
      "(BELOW_NORMAL) LoggerHook                         \n",
      " -------------------- \n",
      "before_train:\n",
      "(VERY_HIGH   ) RuntimeInfoHook                    \n",
      "(NORMAL      ) IterTimerHook                      \n",
      "(VERY_LOW    ) CheckpointHook                     \n",
      " -------------------- \n",
      "before_train_epoch:\n",
      "(VERY_HIGH   ) RuntimeInfoHook                    \n",
      "(NORMAL      ) IterTimerHook                      \n",
      "(NORMAL      ) DistSamplerSeedHook                \n",
      " -------------------- \n",
      "before_train_iter:\n",
      "(VERY_HIGH   ) RuntimeInfoHook                    \n",
      "(NORMAL      ) IterTimerHook                      \n",
      " -------------------- \n",
      "after_train_iter:\n",
      "(VERY_HIGH   ) RuntimeInfoHook                    \n",
      "(NORMAL      ) IterTimerHook                      \n",
      "(BELOW_NORMAL) LoggerHook                         \n",
      "(LOW         ) ParamSchedulerHook                 \n",
      "(VERY_LOW    ) CheckpointHook                     \n",
      " -------------------- \n",
      "after_train_epoch:\n",
      "(NORMAL      ) IterTimerHook                      \n",
      "(LOW         ) ParamSchedulerHook                 \n",
      "(VERY_LOW    ) CheckpointHook                     \n",
      " -------------------- \n",
      "before_val_epoch:\n",
      "(NORMAL      ) IterTimerHook                      \n",
      " -------------------- \n",
      "before_val_iter:\n",
      "(NORMAL      ) IterTimerHook                      \n",
      " -------------------- \n",
      "after_val_iter:\n",
      "(NORMAL      ) IterTimerHook                      \n",
      "(NORMAL      ) VisualizationHook                  \n",
      "(BELOW_NORMAL) LoggerHook                         \n",
      " -------------------- \n",
      "after_val_epoch:\n",
      "(VERY_HIGH   ) RuntimeInfoHook                    \n",
      "(NORMAL      ) IterTimerHook                      \n",
      "(BELOW_NORMAL) LoggerHook                         \n",
      "(LOW         ) ParamSchedulerHook                 \n",
      "(VERY_LOW    ) CheckpointHook                     \n",
      " -------------------- \n",
      "after_train:\n",
      "(VERY_LOW    ) CheckpointHook                     \n",
      " -------------------- \n",
      "before_test_epoch:\n",
      "(NORMAL      ) IterTimerHook                      \n",
      " -------------------- \n",
      "before_test_iter:\n",
      "(NORMAL      ) IterTimerHook                      \n",
      " -------------------- \n",
      "after_test_iter:\n",
      "(NORMAL      ) IterTimerHook                      \n",
      "(NORMAL      ) VisualizationHook                  \n",
      "(BELOW_NORMAL) LoggerHook                         \n",
      " -------------------- \n",
      "after_test_epoch:\n",
      "(VERY_HIGH   ) RuntimeInfoHook                    \n",
      "(NORMAL      ) IterTimerHook                      \n",
      "(BELOW_NORMAL) LoggerHook                         \n",
      " -------------------- \n",
      "after_run:\n",
      "(BELOW_NORMAL) LoggerHook                         \n",
      " -------------------- \n",
      "06/08 00:06:52 - mmengine - \u001b[5m\u001b[4m\u001b[33mWARNING\u001b[0m - The prefix is not set in metric class DumpResults.\n",
      "Loads checkpoint by local backend from path: ./exp/epoch_5.pth\n",
      "06/08 00:06:53 - mmengine - \u001b[4m\u001b[97mINFO\u001b[0m - Load checkpoint from ./exp/epoch_5.pth\n",
      "06/08 00:07:07 - mmengine - \u001b[4m\u001b[97mINFO\u001b[0m - Results has been saved to result.pkl.\n",
      "06/08 00:07:07 - mmengine - \u001b[4m\u001b[97mINFO\u001b[0m - Epoch(test) [64/64]  accuracy/top1: 96.5398  data_time: 0.0001  time: 0.0081\n",
      "Testing finished successfully.\n"
     ]
    }
   ],
   "source": [
    "!mim test mmpretrain ./data/resnet18_finetune.py --checkpoint ./exp/epoch_5.pth --out result.pkl"
   ]
  },
  {
   "cell_type": "code",
   "execution_count": 39,
   "metadata": {
    "ExecuteTime": {
     "end_time": "2023-06-07T16:09:36.386612600Z",
     "start_time": "2023-06-07T16:09:31.485362300Z"
    },
    "collapsed": false
   },
   "outputs": [
    {
     "name": "stdout",
     "output_type": "stream",
     "text": [
      "Use the script c:\\users\\roger\\desktop\\mmlab\\mmpretrain\\mmpretrain\\.mim\\tools\\analysis_tools\\analyze_results.py for command analyze_results.\n",
      "The command to call is C:\\Users\\Roger\\anaconda3\\envs\\mmlab\\python.exe c:\\users\\roger\\desktop\\mmlab\\mmpretrain\\mmpretrain\\.mim\\tools\\analysis_tools\\analyze_results.py ./data/resnet18_finetune.py result.pkl --out-dir ./analyze. \n",
      "06/08 00:09:34 - mmengine - \u001b[5m\u001b[4m\u001b[33mWARNING\u001b[0m - `Visualizer` backend is not initialized because save_dir is None.\n",
      "The script finished successfully.\n"
     ]
    }
   ],
   "source": [
    "!mim run mmpretrain analyze_results ./data/resnet18_finetune.py result.pkl --out-dir ./analyze"
   ]
  },
  {
   "cell_type": "code",
   "execution_count": 43,
   "metadata": {
    "ExecuteTime": {
     "end_time": "2023-06-07T16:12:50.099166500Z",
     "start_time": "2023-06-07T16:12:45.619853900Z"
    },
    "collapsed": false
   },
   "outputs": [
    {
     "name": "stdout",
     "output_type": "stream",
     "text": [
      "Use the script c:\\users\\roger\\desktop\\mmlab\\mmpretrain\\mmpretrain\\.mim\\tools\\analysis_tools\\confusion_matrix.py for command confusion_matrix.\n",
      "The command to call is C:\\Users\\Roger\\anaconda3\\envs\\mmlab\\python.exe c:\\users\\roger\\desktop\\mmlab\\mmpretrain\\mmpretrain\\.mim\\tools\\analysis_tools\\confusion_matrix.py ./data/resnet18_finetune.py result.pkl --show --include-values. \n",
      "Figure(1000x1000)\n",
      "The script finished successfully.\n"
     ]
    }
   ],
   "source": [
    "!mim run mmpretrain confusion_matrix ./data/resnet18_finetune.py result.pkl --show --include-values"
   ]
  }
 ],
 "metadata": {
  "kernelspec": {
   "display_name": "Python 3",
   "language": "python",
   "name": "python3"
  },
  "language_info": {
   "codemirror_mode": {
    "name": "ipython",
    "version": 2
   },
   "file_extension": ".py",
   "mimetype": "text/x-python",
   "name": "python",
   "nbconvert_exporter": "python",
   "pygments_lexer": "ipython2",
   "version": "2.7.6"
  }
 },
 "nbformat": 4,
 "nbformat_minor": 0
}
