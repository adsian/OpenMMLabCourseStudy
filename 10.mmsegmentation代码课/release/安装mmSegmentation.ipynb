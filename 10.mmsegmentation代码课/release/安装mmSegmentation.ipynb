{
 "cells": [
  {
   "cell_type": "code",
   "execution_count": 1,
   "metadata": {},
   "outputs": [
    {
     "name": "stdout",
     "output_type": "stream",
     "text": [
      "Requirement already satisfied: openmim in c:\\users\\roger\\anaconda3\\envs\\mmlab\\lib\\site-packages (0.3.7)\n",
      "Requirement already satisfied: requests in c:\\users\\roger\\anaconda3\\envs\\mmlab\\lib\\site-packages (from openmim) (2.29.0)\n",
      "Requirement already satisfied: tabulate in c:\\users\\roger\\anaconda3\\envs\\mmlab\\lib\\site-packages (from openmim) (0.9.0)\n",
      "Requirement already satisfied: Click in c:\\users\\roger\\anaconda3\\envs\\mmlab\\lib\\site-packages (from openmim) (8.1.3)\n",
      "Requirement already satisfied: rich in c:\\users\\roger\\anaconda3\\envs\\mmlab\\lib\\site-packages (from openmim) (13.4.1)\n",
      "Requirement already satisfied: pip>=19.3 in c:\\users\\roger\\anaconda3\\envs\\mmlab\\lib\\site-packages (from openmim) (23.0.1)\n",
      "Requirement already satisfied: colorama in c:\\users\\roger\\anaconda3\\envs\\mmlab\\lib\\site-packages (from openmim) (0.4.6)\n",
      "Requirement already satisfied: pandas in c:\\users\\roger\\anaconda3\\envs\\mmlab\\lib\\site-packages (from openmim) (2.0.2)\n",
      "Requirement already satisfied: model-index in c:\\users\\roger\\anaconda3\\envs\\mmlab\\lib\\site-packages (from openmim) (0.1.11)\n",
      "Requirement already satisfied: ordered-set in c:\\users\\roger\\anaconda3\\envs\\mmlab\\lib\\site-packages (from model-index->openmim) (4.1.0)\n",
      "Requirement already satisfied: markdown in c:\\users\\roger\\anaconda3\\envs\\mmlab\\lib\\site-packages (from model-index->openmim) (3.4.3)\n",
      "Requirement already satisfied: pyyaml in c:\\users\\roger\\anaconda3\\envs\\mmlab\\lib\\site-packages (from model-index->openmim) (6.0)\n",
      "Requirement already satisfied: tzdata>=2022.1 in c:\\users\\roger\\anaconda3\\envs\\mmlab\\lib\\site-packages (from pandas->openmim) (2023.3)\n",
      "Requirement already satisfied: numpy>=1.20.3 in c:\\users\\roger\\anaconda3\\envs\\mmlab\\lib\\site-packages (from pandas->openmim) (1.24.3)\n",
      "Requirement already satisfied: pytz>=2020.1 in c:\\users\\roger\\anaconda3\\envs\\mmlab\\lib\\site-packages (from pandas->openmim) (2023.3)\n",
      "Requirement already satisfied: python-dateutil>=2.8.2 in c:\\users\\roger\\anaconda3\\envs\\mmlab\\lib\\site-packages (from pandas->openmim) (2.8.2)\n",
      "Requirement already satisfied: charset-normalizer<4,>=2 in c:\\users\\roger\\anaconda3\\envs\\mmlab\\lib\\site-packages (from requests->openmim) (2.0.4)\n",
      "Requirement already satisfied: certifi>=2017.4.17 in c:\\users\\roger\\anaconda3\\envs\\mmlab\\lib\\site-packages (from requests->openmim) (2023.5.7)\n",
      "Requirement already satisfied: urllib3<1.27,>=1.21.1 in c:\\users\\roger\\anaconda3\\envs\\mmlab\\lib\\site-packages (from requests->openmim) (1.26.15)\n",
      "Requirement already satisfied: idna<4,>=2.5 in c:\\users\\roger\\anaconda3\\envs\\mmlab\\lib\\site-packages (from requests->openmim) (3.4)\n",
      "Requirement already satisfied: pygments<3.0.0,>=2.13.0 in c:\\users\\roger\\anaconda3\\envs\\mmlab\\lib\\site-packages (from rich->openmim) (2.15.1)\n",
      "Requirement already satisfied: markdown-it-py<3.0.0,>=2.2.0 in c:\\users\\roger\\anaconda3\\envs\\mmlab\\lib\\site-packages (from rich->openmim) (2.2.0)\n",
      "Requirement already satisfied: typing-extensions<5.0,>=4.0.0 in c:\\users\\roger\\anaconda3\\envs\\mmlab\\lib\\site-packages (from rich->openmim) (4.5.0)\n",
      "Requirement already satisfied: mdurl~=0.1 in c:\\users\\roger\\anaconda3\\envs\\mmlab\\lib\\site-packages (from markdown-it-py<3.0.0,>=2.2.0->rich->openmim) (0.1.2)\n",
      "Requirement already satisfied: six>=1.5 in c:\\users\\roger\\anaconda3\\envs\\mmlab\\lib\\site-packages (from python-dateutil>=2.8.2->pandas->openmim) (1.16.0)\n",
      "Requirement already satisfied: importlib-metadata>=4.4 in c:\\users\\roger\\anaconda3\\envs\\mmlab\\lib\\site-packages (from markdown->model-index->openmim) (6.0.0)\n",
      "Requirement already satisfied: zipp>=0.5 in c:\\users\\roger\\anaconda3\\envs\\mmlab\\lib\\site-packages (from importlib-metadata>=4.4->markdown->model-index->openmim) (3.11.0)\n",
      "Note: you may need to restart the kernel to use updated packages.\n"
     ]
    },
    {
     "name": "stderr",
     "output_type": "stream",
     "text": [
      "UsageError: Line magic function `%mim` not found.\n"
     ]
    }
   ],
   "source": [
    "%pip install -U openmim\n",
    "%mim install mmengine\n",
    "%mim install 'mmcv==2.0.0rc4'"
   ]
  },
  {
   "cell_type": "code",
   "execution_count": 2,
   "metadata": {},
   "outputs": [
    {
     "name": "stdout",
     "output_type": "stream",
     "text": [
      "Note: you may need to restart the kernel to use updated packages.\n"
     ]
    },
    {
     "name": "stderr",
     "output_type": "stream",
     "text": [
      "ERROR: Invalid requirement: \"'mmdet\"\n"
     ]
    }
   ],
   "source": [
    "%pip install opencv-python pillow matplotlib seaborn tqdm pytorch-lightning 'mmdet>=3.0.0rc1' -i https://pypi.tuna.tsinghua.edu.cn/simple"
   ]
  },
  {
   "cell_type": "code",
   "execution_count": 3,
   "metadata": {},
   "outputs": [
    {
     "name": "stderr",
     "output_type": "stream",
     "text": [
      "Cloning into 'mmsegmentation'...\n"
     ]
    }
   ],
   "source": [
    "!git clone https://github.com/open-mmlab/mmsegmentation.git -b dev-1.x"
   ]
  },
  {
   "cell_type": "code",
   "execution_count": 4,
   "metadata": {},
   "outputs": [
    {
     "data": {
      "text/plain": [
       "'c:\\\\Users\\\\Roger\\\\Desktop\\\\OpenMMLabCourseStudy\\\\10.mmsegmentation代码课\\\\release\\\\mmsegmentation'"
      ]
     },
     "execution_count": 4,
     "metadata": {},
     "output_type": "execute_result"
    }
   ],
   "source": [
    "import os\n",
    "os.chdir('mmsegmentation')\n",
    "%pwd"
   ]
  },
  {
   "cell_type": "code",
   "execution_count": 5,
   "metadata": {},
   "outputs": [
    {
     "name": "stdout",
     "output_type": "stream",
     "text": [
      "Using pip 23.0.1 from c:\\Users\\Roger\\anaconda3\\envs\\mmlab\\lib\\site-packages\\pip (python 3.8)\n",
      "Obtaining file:///C:/Users/Roger/Desktop/OpenMMLabCourseStudy/10.mmsegmentation%E4%BB%A3%E7%A0%81%E8%AF%BE/release/mmsegmentation\n",
      "  Preparing metadata (setup.py): started\n",
      "  Preparing metadata (setup.py): finished with status 'done'\n",
      "Requirement already satisfied: matplotlib in c:\\users\\roger\\anaconda3\\envs\\mmlab\\lib\\site-packages (from mmsegmentation==1.0.0) (3.7.1)\n",
      "Requirement already satisfied: numpy in c:\\users\\roger\\anaconda3\\envs\\mmlab\\lib\\site-packages (from mmsegmentation==1.0.0) (1.24.3)\n",
      "Requirement already satisfied: packaging in c:\\users\\roger\\anaconda3\\envs\\mmlab\\lib\\site-packages (from mmsegmentation==1.0.0) (23.0)\n",
      "Requirement already satisfied: prettytable in c:\\users\\roger\\anaconda3\\envs\\mmlab\\lib\\site-packages (from mmsegmentation==1.0.0) (3.7.0)\n",
      "Requirement already satisfied: scipy in c:\\users\\roger\\anaconda3\\envs\\mmlab\\lib\\site-packages (from mmsegmentation==1.0.0) (1.10.1)\n",
      "Requirement already satisfied: pyparsing>=2.3.1 in c:\\users\\roger\\anaconda3\\envs\\mmlab\\lib\\site-packages (from matplotlib->mmsegmentation==1.0.0) (3.0.9)\n",
      "Requirement already satisfied: kiwisolver>=1.0.1 in c:\\users\\roger\\anaconda3\\envs\\mmlab\\lib\\site-packages (from matplotlib->mmsegmentation==1.0.0) (1.4.4)\n",
      "Requirement already satisfied: cycler>=0.10 in c:\\users\\roger\\anaconda3\\envs\\mmlab\\lib\\site-packages (from matplotlib->mmsegmentation==1.0.0) (0.11.0)\n",
      "Requirement already satisfied: python-dateutil>=2.7 in c:\\users\\roger\\anaconda3\\envs\\mmlab\\lib\\site-packages (from matplotlib->mmsegmentation==1.0.0) (2.8.2)\n",
      "Requirement already satisfied: pillow>=6.2.0 in c:\\users\\roger\\anaconda3\\envs\\mmlab\\lib\\site-packages (from matplotlib->mmsegmentation==1.0.0) (9.4.0)\n",
      "Requirement already satisfied: importlib-resources>=3.2.0 in c:\\users\\roger\\anaconda3\\envs\\mmlab\\lib\\site-packages (from matplotlib->mmsegmentation==1.0.0) (5.2.0)\n",
      "Requirement already satisfied: contourpy>=1.0.1 in c:\\users\\roger\\anaconda3\\envs\\mmlab\\lib\\site-packages (from matplotlib->mmsegmentation==1.0.0) (1.0.7)\n",
      "Requirement already satisfied: fonttools>=4.22.0 in c:\\users\\roger\\anaconda3\\envs\\mmlab\\lib\\site-packages (from matplotlib->mmsegmentation==1.0.0) (4.39.4)\n",
      "Requirement already satisfied: wcwidth in c:\\users\\roger\\anaconda3\\envs\\mmlab\\lib\\site-packages (from prettytable->mmsegmentation==1.0.0) (0.2.5)\n",
      "Requirement already satisfied: zipp>=3.1.0 in c:\\users\\roger\\anaconda3\\envs\\mmlab\\lib\\site-packages (from importlib-resources>=3.2.0->matplotlib->mmsegmentation==1.0.0) (3.11.0)\n",
      "Requirement already satisfied: six>=1.5 in c:\\users\\roger\\anaconda3\\envs\\mmlab\\lib\\site-packages (from python-dateutil>=2.7->matplotlib->mmsegmentation==1.0.0) (1.16.0)\n",
      "Installing collected packages: mmsegmentation\n",
      "  Running setup.py develop for mmsegmentation\n",
      "Successfully installed mmsegmentation-1.0.0\n",
      "Note: you may need to restart the kernel to use updated packages.\n"
     ]
    },
    {
     "name": "stderr",
     "output_type": "stream",
     "text": [
      "  Running command python setup.py egg_info\n",
      "  running egg_info\n",
      "  creating C:\\Users\\Roger\\AppData\\Local\\Temp\\pip-pip-egg-info-tbxkcsos\\mmsegmentation.egg-info\n",
      "  writing C:\\Users\\Roger\\AppData\\Local\\Temp\\pip-pip-egg-info-tbxkcsos\\mmsegmentation.egg-info\\PKG-INFO\n",
      "  writing dependency_links to C:\\Users\\Roger\\AppData\\Local\\Temp\\pip-pip-egg-info-tbxkcsos\\mmsegmentation.egg-info\\dependency_links.txt\n",
      "  writing requirements to C:\\Users\\Roger\\AppData\\Local\\Temp\\pip-pip-egg-info-tbxkcsos\\mmsegmentation.egg-info\\requires.txt\n",
      "  writing top-level names to C:\\Users\\Roger\\AppData\\Local\\Temp\\pip-pip-egg-info-tbxkcsos\\mmsegmentation.egg-info\\top_level.txt\n",
      "  writing manifest file 'C:\\Users\\Roger\\AppData\\Local\\Temp\\pip-pip-egg-info-tbxkcsos\\mmsegmentation.egg-info\\SOURCES.txt'\n",
      "  reading manifest file 'C:\\Users\\Roger\\AppData\\Local\\Temp\\pip-pip-egg-info-tbxkcsos\\mmsegmentation.egg-info\\SOURCES.txt'\n",
      "  reading manifest template 'MANIFEST.in'\n",
      "  adding license file 'LICENSE'\n",
      "  writing manifest file 'C:\\Users\\Roger\\AppData\\Local\\Temp\\pip-pip-egg-info-tbxkcsos\\mmsegmentation.egg-info\\SOURCES.txt'\n",
      "    Running command python setup.py develop\n",
      "    running develop\n",
      "    c:\\Users\\Roger\\anaconda3\\envs\\mmlab\\lib\\site-packages\\setuptools\\command\\develop.py:40: EasyInstallDeprecationWarning: easy_install command is deprecated.\n",
      "    !!\n",
      "\n",
      "            ********************************************************************************\n",
      "            Please avoid running ``setup.py`` and ``easy_install``.\n",
      "            Instead, use pypa/build, pypa/installer, pypa/build or\n",
      "            other standards-based tools.\n",
      "\n",
      "            See https://github.com/pypa/setuptools/issues/917 for details.\n",
      "            ********************************************************************************\n",
      "\n",
      "    !!\n",
      "      easy_install.initialize_options(self)\n",
      "    c:\\Users\\Roger\\anaconda3\\envs\\mmlab\\lib\\site-packages\\setuptools\\_distutils\\cmd.py:66: SetuptoolsDeprecationWarning: setup.py install is deprecated.\n",
      "    !!\n",
      "\n",
      "            ********************************************************************************\n",
      "            Please avoid running ``setup.py`` directly.\n",
      "            Instead, use pypa/build, pypa/installer, pypa/build or\n",
      "            other standards-based tools.\n",
      "\n",
      "            See https://blog.ganssle.io/articles/2021/10/setup-py-deprecated.html for details.\n",
      "            ********************************************************************************\n",
      "\n",
      "    !!\n",
      "      self.initialize_options()\n",
      "    running egg_info\n",
      "    creating mmsegmentation.egg-info\n",
      "    writing mmsegmentation.egg-info\\PKG-INFO\n",
      "    writing dependency_links to mmsegmentation.egg-info\\dependency_links.txt\n",
      "    writing requirements to mmsegmentation.egg-info\\requires.txt\n",
      "    writing top-level names to mmsegmentation.egg-info\\top_level.txt\n",
      "    writing manifest file 'mmsegmentation.egg-info\\SOURCES.txt'\n",
      "    reading manifest file 'mmsegmentation.egg-info\\SOURCES.txt'\n",
      "    reading manifest template 'MANIFEST.in'\n",
      "    adding license file 'LICENSE'\n",
      "    writing manifest file 'mmsegmentation.egg-info\\SOURCES.txt'\n",
      "    running build_ext\n",
      "    Creating c:\\users\\roger\\anaconda3\\envs\\mmlab\\lib\\site-packages\\mmsegmentation.egg-link (link to .)\n",
      "    Adding mmsegmentation 1.0.0 to easy-install.pth file\n",
      "\n",
      "    Installed c:\\users\\roger\\desktop\\openmmlabcoursestudy\\10.mmsegmentation代码课\\release\\mmsegmentation\n"
     ]
    }
   ],
   "source": [
    "%pip install -v -e ."
   ]
  },
  {
   "cell_type": "code",
   "execution_count": 6,
   "metadata": {},
   "outputs": [],
   "source": [
    "import os\n",
    "\n",
    "# 创建 checkpoint 文件夹，用于存放预训练模型权重文件\n",
    "os.mkdir('checkpoint')\n",
    "\n",
    "# 创建 outputs 文件夹，用于存放预测结果\n",
    "os.mkdir('outputs')\n",
    "\n",
    "# 创建 data 文件夹，用于存放图片和视频素材\n",
    "os.mkdir('data')"
   ]
  },
  {
   "cell_type": "code",
   "execution_count": 7,
   "metadata": {},
   "outputs": [
    {
     "name": "stdout",
     "output_type": "stream",
     "text": [
      "Pytorch 版本 2.0.1\n",
      "CUDA 是否可用 True\n"
     ]
    }
   ],
   "source": [
    "import torch, torchvision\n",
    "print('Pytorch 版本', torch.__version__)\n",
    "print('CUDA 是否可用',torch.cuda.is_available())"
   ]
  },
  {
   "cell_type": "code",
   "execution_count": 8,
   "metadata": {},
   "outputs": [
    {
     "name": "stdout",
     "output_type": "stream",
     "text": [
      "MMCV版本 2.0.0\n",
      "CUDA版本 11.8\n",
      "编译器版本 MSVC 192829924\n"
     ]
    }
   ],
   "source": [
    "# 检查 mmcv\n",
    "import mmcv\n",
    "from mmcv.ops import get_compiling_cuda_version, get_compiler_version\n",
    "print('MMCV版本', mmcv.__version__)\n",
    "print('CUDA版本', get_compiling_cuda_version())\n",
    "print('编译器版本', get_compiler_version())"
   ]
  },
  {
   "cell_type": "code",
   "execution_count": 9,
   "metadata": {},
   "outputs": [
    {
     "name": "stdout",
     "output_type": "stream",
     "text": [
      "mmsegmentation版本 1.0.0\n"
     ]
    }
   ],
   "source": [
    "# 检查 mmsegmentation\n",
    "import mmseg\n",
    "from mmseg.utils import register_all_modules\n",
    "from mmseg.apis import inference_model, init_model\n",
    "print('mmsegmentation版本', mmseg.__version__)"
   ]
  },
  {
   "cell_type": "code",
   "execution_count": 11,
   "metadata": {},
   "outputs": [],
   "source": [
    "import matplotlib \n",
    "import matplotlib.pyplot as plt\n",
    "matplotlib.rc(\"font\",family='SimHei') \n",
    "\n",
    "plt.rcParams['font.sans-serif']=['SimHei']  # 用来正常显示中文标签 \n",
    "plt.rcParams['axes.unicode_minus']=False  # 用来正常显示负号"
   ]
  },
  {
   "cell_type": "code",
   "execution_count": 12,
   "metadata": {},
   "outputs": [
    {
     "data": {
      "image/png": "[encoded data removed]",
      "text/plain": [
       "<Figure size 640x480 with 1 Axes>"
      ]
     },
     "metadata": {},
     "output_type": "display_data"
    }
   ],
   "source": [
    "plt.plot([1,2,3], [100,500,300])\n",
    "plt.title('matplotlib中文字体测试', fontsize=25)\n",
    "plt.xlabel('X轴', fontsize=15)\n",
    "plt.ylabel('Y轴', fontsize=15)\n",
    "plt.show()"
   ]
  },
  {
   "cell_type": "code",
   "execution_count": null,
   "metadata": {},
   "outputs": [],
   "source": []
  }
 ],
 "metadata": {
  "kernelspec": {
   "display_name": "mmlab",
   "language": "python",
   "name": "python3"
  },
  "language_info": {
   "codemirror_mode": {
    "name": "ipython",
    "version": 3
   },
   "file_extension": ".py",
   "mimetype": "text/x-python",
   "name": "python",
   "nbconvert_exporter": "python",
   "pygments_lexer": "ipython3",
   "version": "-1.-1.-1"
  },
  "orig_nbformat": 4
 },
 "nbformat": 4,
 "nbformat_minor": 2
}
